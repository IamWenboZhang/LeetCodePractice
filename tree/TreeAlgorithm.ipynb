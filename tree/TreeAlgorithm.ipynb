{
 "metadata": {
  "language_info": {
   "codemirror_mode": {
    "name": "ipython",
    "version": 3
   },
   "file_extension": ".py",
   "mimetype": "text/x-python",
   "name": "python",
   "nbconvert_exporter": "python",
   "pygments_lexer": "ipython3",
   "version": "3.8.3-final"
  },
  "orig_nbformat": 2,
  "kernelspec": {
   "name": "python3",
   "display_name": "Python 3.8.3 64-bit (conda)",
   "metadata": {
    "interpreter": {
     "hash": "b3ba2566441a7c06988d0923437866b63cedc61552a5af99d1f4fb67d367b25f"
    }
   }
  }
 },
 "nbformat": 4,
 "nbformat_minor": 2,
 "cells": [
  {
   "source": [
    "Import packages\n",
    "导入需要的组件包"
   ],
   "cell_type": "markdown",
   "metadata": {}
  },
  {
   "cell_type": "code",
   "execution_count": 1,
   "metadata": {},
   "outputs": [],
   "source": [
    "from enum import Enum\n",
    "from queue import SimpleQueue\n",
    "from queue import Queue\n",
    "import queue"
   ]
  },
  {
   "source": [
    "Define tree structure\n",
    "定义树结构"
   ],
   "cell_type": "markdown",
   "metadata": {}
  },
  {
   "cell_type": "code",
   "execution_count": 3,
   "metadata": {},
   "outputs": [],
   "source": [
    "class TreeOrderType(Enum):\n",
    "    preOrder = 1\n",
    "    inOrder = 2\n",
    "    postOrder = 3\n",
    "    levelOrder = 4\n",
    "\n",
    "class TreeNode:\n",
    "\n",
    "    def __init__(self,value):\n",
    "        self.leftChild = None\n",
    "        self.rightChild = None\n",
    "        self.value = value\n",
    "\n",
    "    def __init__(self,left,right,value):\n",
    "        self.leftChild = left\n",
    "        self.rightChild = right\n",
    "        self.value = value\n",
    "\n",
    "    def __str__(self):\n",
    "        return str(self.value)\n",
    "    "
   ]
  },
  {
   "source": [
    "Traversal\n",
    "遍历"
   ],
   "cell_type": "markdown",
   "metadata": {}
  },
  {
   "source": [
    "Define Order Algorithm\n",
    "定义树的遍历算法"
   ],
   "cell_type": "markdown",
   "metadata": {}
  },
  {
   "cell_type": "code",
   "execution_count": 4,
   "metadata": {},
   "outputs": [],
   "source": [
    "def treeorder(root:TreeNode, ordertype:TreeOrderType):\n",
    "    switcher = {\n",
    "        TreeOrderType.preOrder:TreePreOrder(root),\n",
    "        TreeOrderType.inOrder:TreeInOrder(root),\n",
    "        TreeOrderType.postOrder:TreePostOrder(root),\n",
    "        TreeOrderType.levelOrder:TreeLevelOrder(root),\n",
    "    }\n",
    "    return switcher.get(ordertype,\"Unvaild Order Type\")\n"
   ]
  },
  {
   "source": [
    "PreOrder\n",
    "前序遍历"
   ],
   "cell_type": "markdown",
   "metadata": {}
  },
  {
   "cell_type": "code",
   "execution_count": 5,
   "metadata": {},
   "outputs": [],
   "source": [
    "##PreOrder Algorithm\n",
    "def TreePreOrder(currentNode:TreeNode):\n",
    "    if currentNode != None:\n",
    "        print(currentNode)\n",
    "        TreePreOrder(currentNode.leftChild)\n",
    "        TreePreOrder(currentNode.rightChild)\n"
   ]
  },
  {
   "source": [
    "InOrder\n",
    "中序遍历"
   ],
   "cell_type": "markdown",
   "metadata": {}
  },
  {
   "cell_type": "code",
   "execution_count": 6,
   "metadata": {},
   "outputs": [],
   "source": [
    "###InOrder\n",
    "###中序遍历\n",
    "def TreeInOrder(currentNode:TreeNode,result = None):\n",
    "    if currentNode.value != None:\n",
    "        TreeInOrder(currentNode.leftChild,result)\n",
    "        print(currentNode)\n",
    "        if result != None:\n",
    "            result += currentNode.value\n",
    "            yield result\n",
    "        TreeInOrder(currentNode.rightChild,result)"
   ]
  },
  {
   "source": [
    "PostOrder\n",
    "后序遍历"
   ],
   "cell_type": "markdown",
   "metadata": {}
  },
  {
   "cell_type": "code",
   "execution_count": 7,
   "metadata": {},
   "outputs": [],
   "source": [
    "###PostOrder\n",
    "###后序遍历\n",
    "def TreePostOrder(currentNode:TreeNode,result = None):\n",
    "    if currentNode.value !=None:\n",
    "        TreePostOrder(currentNode.leftChild,result)\n",
    "        TreePostOrder(currentNode.rightChild,result)\n",
    "        print(currentNode)\n",
    "        if result != None:\n",
    "            result += currentNode.value\n",
    "            yield result"
   ]
  },
  {
   "source": [
    "LevelOrder\n",
    "层级遍历"
   ],
   "cell_type": "markdown",
   "metadata": {}
  },
  {
   "source": [
    "###LevelOrder\n",
    "###层级遍历\n",
    "def TreeLevelOrder(rootNode:TreeNode,result = None):\n",
    "    queue = SimpleQueue()\n",
    "    queue.put_nowait(rootNode)\n",
    "    while not queue.empty:\n",
    "        currentNode = queue.get_nowait()\n",
    "        print(current)\n",
    "        if result != None:\n",
    "            result += current.value\n",
    "        if currentNode.leftChild != None:\n",
    "            queue.put_nowait(currentNode.leftChild)\n",
    "        if currentNode.rightChild != None:\n",
    "            queue.put_nowait(currentNode.rightChild)\n",
    "\n",
    "        "
   ],
   "cell_type": "code",
   "metadata": {},
   "execution_count": 8,
   "outputs": []
  },
  {
   "source": [
    "## Invert binary tree\n",
    "## 反转二叉树\n",
    "\n",
    "翻转一棵二叉树。\n",
    "\n",
    "示例：\n",
    "\n",
    "输入：\n",
    "\n",
    "     4\n",
    "   /   \\\n",
    "  2     7\n",
    " / \\   / \\\n",
    "1   3 6   9\n",
    "输出：\n",
    "\n",
    "     4\n",
    "   /   \\\n",
    "  7     2\n",
    " / \\   / \\\n",
    "9   6 3   1\n",
    "\n",
    "来源：力扣（LeetCode）\n",
    "链接：https://leetcode-cn.com/problems/invert-binary-tree\n",
    "著作权归领扣网络所有。商业转载请联系官方授权，非商业转载请注明出处。"
   ],
   "cell_type": "markdown",
   "metadata": {}
  },
  {
   "cell_type": "code",
   "execution_count": 2,
   "metadata": {},
   "outputs": [],
   "source": [
    "class Solution_226(object):\n",
    "    def invertTree(self, root):\n",
    "        \"\"\"\n",
    "        :type root: TreeNode\n",
    "        :rtype: TreeNode\n",
    "        \"\"\"\n",
    "        if root.leftchild != None or root.rightchild != None:\n",
    "            root.leftchild,root.rightchild = root.rightchild,root.leftchild\n",
    "        self.invertTree(root.leftchild)\n",
    "        self.invertTree(root.rightchild)\n",
    "\n",
    "    def invertTree_NoRecursive(self,root):\n",
    "        if root == None:\n",
    "            return None\n",
    "        stack = [root]\n",
    "        while len(stack) > 0:\n",
    "            current = stack.pop()\n",
    "            current.leftchild,current.rightchild = current.rightchild, current.leftchild\n",
    "            if current.leftchild:\n",
    "                stack.append(current.leftchild)\n",
    "            if current.rightchild:\n",
    "                stack.append(current.rightchild)\n",
    "        \n",
    "        return root\n",
    "\n",
    "   \n"
   ]
  },
  {
   "source": [
    "## 线段树\n",
    "## Segement Tree\n",
    "\n",
    "https://www.youtube.com/watch?v=8XSfWhZFSBs"
   ],
   "cell_type": "markdown",
   "metadata": {}
  },
  {
   "cell_type": "code",
   "execution_count": 65,
   "metadata": {},
   "outputs": [
    {
     "output_type": "stream",
     "name": "stdout",
     "text": [
      "Mid: 1\n\n\nstart :0\nend :2\nValue :9\nMid: 0\n\n\nstart :0\nend :1\nValue :4\nMid: 1\n\n\nstart :1\nend :1\nValue :3\nMid: 2\n\n\nstart :2\nend :2\nValue :5\n8\n"
     ]
    }
   ],
   "source": [
    "import math\n",
    "class SegementTreeNode:\n",
    "    def __init__(self,nums,start,end):\n",
    "        self.value = 0\n",
    "        self.start = start\n",
    "        self.end = end\n",
    "        self.leftchild = None\n",
    "        self.rightchild = None\n",
    "\n",
    "    def __str__(self):\n",
    "        return str(self.value)\n",
    "\n",
    "    def print(self):\n",
    "        print(\"\\n\")\n",
    "        print(\"start :\"+str(self.start))\n",
    "        print(\"end :\"+str(self.end))\n",
    "        \n",
    "        print(\"Value :\"+str(self.value))\n",
    "        \n",
    "\n",
    "class NumArray(object):\n",
    "\n",
    "    def buildTree(self, nums, start, end):\n",
    "        if start > end:\n",
    "            return None\n",
    "        node = SegementTreeNode(nums,start,end)\n",
    "        if start == end:\n",
    "            node.value = nums[start]\n",
    "        else:\n",
    "            mid = math.floor((end-start)/2)+start\n",
    "            node.leftchild = self.buildTree(nums,start,mid)\n",
    "            node.rightchild = self.buildTree(nums,mid+1,end)\n",
    "            node.value = node.leftchild.value + node.rightchild.value\n",
    "\n",
    "        return node\n",
    "\n",
    "    def __init__(self, nums):\n",
    "        \"\"\"\n",
    "        :type nums: List[int]\n",
    "        \"\"\"\n",
    "        self.root = self.buildTree(nums,0,len(nums)-1)\n",
    "    \n",
    "    def printroot(self):\n",
    "        return str(self.root)\n",
    "        \n",
    "\n",
    "    def update(self, i, val):\n",
    "        \"\"\"\n",
    "        :type i: int\n",
    "        :type val: int\n",
    "        :rtype: None\n",
    "        \"\"\"\n",
    "        self.__updateTree__(self.root,i,val)\n",
    "\n",
    "    def __updateTree__(self,node,index,value):\n",
    "        mid = math.floor((node.end - node.start)/2)+node.start\n",
    "        if node.start == index and node.end == index:\n",
    "            node.value = value\n",
    "            return\n",
    "        elif index <= mid:\n",
    "            updateTree(node.leftchild,index,mid)\n",
    "        else:\n",
    "            updateTree(node.rightchild,mid+1,index)\n",
    "        node.value = node.leftchild.value + node.rightchild.value\n",
    "\n",
    "\n",
    "    def sumRange(self, i, j):\n",
    "        \"\"\"\n",
    "        :type i: int\n",
    "        :type j: int\n",
    "        :rtype: int\n",
    "        \"\"\"\n",
    "        value = self.__sumTree__(self.root,i,j)\n",
    "        return value\n",
    "\n",
    "    def __sumTree__(self,node,start,end):\n",
    "        \n",
    "        mid = math.floor((node.end-node.start)/2)+node.start\n",
    "        print(\"Mid: \"+str(mid))\n",
    "        if node != None:\n",
    "            node.print()\n",
    "        if node.start == start and node.end == end:\n",
    "            return node.value\n",
    "        elif end <= mid:\n",
    "            return self.__sumTree__(node.leftchild,start,mid)\n",
    "        elif start >= mid +1:\n",
    "            return self.__sumTree__(node.rightchild,mid+1,end)\n",
    "        else:\n",
    "            return self.__sumTree__(node.leftchild,start,mid) + self.__sumTree__(node.rightchild,mid+1,end)\n",
    "# Your NumArray object will be instantiated and called as such:\n",
    "# obj = NumArray(nums)\n",
    "# obj.update(i,val)\n",
    "# param_2 = obj.sumRange(i,j)\n",
    "\n",
    "arr = NumArray([1,3,5])\n",
    "sum = arr.sumRange(1,2)\n",
    "print(sum)\n"
   ]
  },
  {
   "cell_type": "code",
   "execution_count": 55,
   "metadata": {},
   "outputs": [
    {
     "output_type": "stream",
     "name": "stdout",
     "text": [
      "0\n"
     ]
    }
   ],
   "source": [
    "print(math.floor(1/2))"
   ]
  },
  {
   "cell_type": "code",
   "execution_count": null,
   "metadata": {},
   "outputs": [],
   "source": []
  }
 ]
}