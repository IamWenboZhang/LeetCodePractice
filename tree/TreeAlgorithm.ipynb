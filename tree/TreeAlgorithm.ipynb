{
 "metadata": {
  "language_info": {
   "codemirror_mode": {
    "name": "ipython",
    "version": 3
   },
   "file_extension": ".py",
   "mimetype": "text/x-python",
   "name": "python",
   "nbconvert_exporter": "python",
   "pygments_lexer": "ipython3",
   "version": "3.8.3-final"
  },
  "orig_nbformat": 2,
  "kernelspec": {
   "name": "python3",
   "display_name": "Python 3.8.3 64-bit (conda)",
   "metadata": {
    "interpreter": {
     "hash": "b3ba2566441a7c06988d0923437866b63cedc61552a5af99d1f4fb67d367b25f"
    }
   }
  }
 },
 "nbformat": 4,
 "nbformat_minor": 2,
 "cells": [
  {
   "source": [
    "Import packages\n",
    "导入需要的组件包"
   ],
   "cell_type": "markdown",
   "metadata": {}
  },
  {
   "cell_type": "code",
   "execution_count": 2,
   "metadata": {},
   "outputs": [],
   "source": [
    "from enum import Enum\n",
    "from queue import SimpleQueue\n",
    "from queue import Queue"
   ]
  },
  {
   "source": [
    "Define tree structure\n",
    "定义树结构"
   ],
   "cell_type": "markdown",
   "metadata": {}
  },
  {
   "cell_type": "code",
   "execution_count": 3,
   "metadata": {},
   "outputs": [],
   "source": [
    "class TreeOrderType(Enum):\n",
    "    preOrder = 1\n",
    "    inOrder = 2\n",
    "    postOrder = 3\n",
    "    levelOrder = 4\n",
    "\n",
    "class TreeNode:\n",
    "\n",
    "    def __init__(self,value):\n",
    "        self.leftChild = None\n",
    "        self.rightChild = None\n",
    "        self.value = value\n",
    "\n",
    "    def __init__(self,left,right,value):\n",
    "        self.leftChild = left\n",
    "        self.rightChild = right\n",
    "        self.value = value\n",
    "\n",
    "    def __str__(self):\n",
    "        return str(self.value)\n",
    "    "
   ]
  },
  {
   "source": [
    "Traversal\n",
    "遍历"
   ],
   "cell_type": "markdown",
   "metadata": {}
  },
  {
   "source": [
    "Define Order Algorithm\n",
    "定义树的遍历算法"
   ],
   "cell_type": "markdown",
   "metadata": {}
  },
  {
   "cell_type": "code",
   "execution_count": 4,
   "metadata": {},
   "outputs": [],
   "source": [
    "def treeorder(root:TreeNode, ordertype:TreeOrderType):\n",
    "    switcher = {\n",
    "        TreeOrderType.preOrder:TreePreOrder(root),\n",
    "        TreeOrderType.inOrder:TreeInOrder(root),\n",
    "        TreeOrderType.postOrder:TreePostOrder(root),\n",
    "        TreeOrderType.levelOrder:TreeLevelOrder(root),\n",
    "    }\n",
    "    return switcher.get(ordertype,\"Unvaild Order Type\")\n"
   ]
  },
  {
   "source": [
    "PreOrder\n",
    "前序遍历"
   ],
   "cell_type": "markdown",
   "metadata": {}
  },
  {
   "cell_type": "code",
   "execution_count": 5,
   "metadata": {},
   "outputs": [],
   "source": [
    "##PreOrder Algorithm\n",
    "def TreePreOrder(currentNode:TreeNode):\n",
    "    if currentNode != None:\n",
    "        print(currentNode)\n",
    "        TreePreOrder(currentNode.leftChild)\n",
    "        TreePreOrder(currentNode.rightChild)"
   ]
  },
  {
   "source": [
    "InOrder\n",
    "中序遍历"
   ],
   "cell_type": "markdown",
   "metadata": {}
  },
  {
   "cell_type": "code",
   "execution_count": 6,
   "metadata": {},
   "outputs": [],
   "source": [
    "###InOrder\n",
    "###中序遍历\n",
    "def TreeInOrder(currentNode:TreeNode,result = None):\n",
    "    if currentNode.value != None:\n",
    "        TreeInOrder(currentNode.leftChild,result)\n",
    "        print(currentNode)\n",
    "        if result != None:\n",
    "            result += currentNode.value\n",
    "            yield result\n",
    "        TreeInOrder(currentNode.rightChild,result)"
   ]
  },
  {
   "source": [
    "PostOrder\n",
    "后序遍历"
   ],
   "cell_type": "markdown",
   "metadata": {}
  },
  {
   "cell_type": "code",
   "execution_count": 7,
   "metadata": {},
   "outputs": [],
   "source": [
    "###PostOrder\n",
    "###后序遍历\n",
    "def TreePostOrder(currentNode:TreeNode,result = None):\n",
    "    if currentNode.value !=None:\n",
    "        TreePostOrder(currentNode.leftChild,result)\n",
    "        TreePostOrder(currentNode.rightChild,result)\n",
    "        print(currentNode)\n",
    "        if result != None:\n",
    "            result += currentNode.value\n",
    "            yield result"
   ]
  },
  {
   "source": [
    "LevelOrder\n",
    "层级遍历"
   ],
   "cell_type": "markdown",
   "metadata": {}
  },
  {
   "source": [
    "###LevelOrder\n",
    "###层级遍历\n",
    "def TreeLevelOrder(rootNode:TreeNode,result = None):\n",
    "    queue = SimpleQueue()\n",
    "    queue.put_nowait(rootNode)\n",
    "    while not queue.empty:\n",
    "        currentNode = queue.get_nowait()\n",
    "        print(current)\n",
    "        if result != None:\n",
    "            result += current.value\n",
    "        if currentNode.leftChild != None:\n",
    "            queue.put_nowait(currentNode.leftChild)\n",
    "        if currentNode.rightChild != None:\n",
    "            queue.put_nowait(currentNode.rightChild)\n",
    "\n",
    "        "
   ],
   "cell_type": "code",
   "metadata": {},
   "execution_count": 8,
   "outputs": []
  }
 ]
}