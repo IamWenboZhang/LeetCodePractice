{
 "metadata": {
  "language_info": {
   "codemirror_mode": {
    "name": "ipython",
    "version": 3
   },
   "file_extension": ".py",
   "mimetype": "text/x-python",
   "name": "python",
   "nbconvert_exporter": "python",
   "pygments_lexer": "ipython3",
   "version": "3.8.3-final"
  },
  "orig_nbformat": 2,
  "kernelspec": {
   "name": "python3",
   "display_name": "Python 3.8.3 64-bit (conda)",
   "metadata": {
    "interpreter": {
     "hash": "b3ba2566441a7c06988d0923437866b63cedc61552a5af99d1f4fb67d367b25f"
    }
   }
  }
 },
 "nbformat": 4,
 "nbformat_minor": 2,
 "cells": [
  {
   "source": [
    "Import packages\n",
    "导入需要的组件包"
   ],
   "cell_type": "markdown",
   "metadata": {}
  },
  {
   "cell_type": "code",
   "execution_count": 6,
   "metadata": {},
   "outputs": [],
   "source": [
    "from enum import Enum\n",
    "from queue import SimpleQueue\n",
    "from queue import Queue\n",
    "import queue"
   ]
  },
  {
   "source": [
    "Define tree structure\n",
    "定义树结构"
   ],
   "cell_type": "markdown",
   "metadata": {}
  },
  {
   "cell_type": "code",
   "execution_count": 7,
   "metadata": {},
   "outputs": [],
   "source": [
    "class TreeOrderType(Enum):\n",
    "    preOrder = 1\n",
    "    inOrder = 2\n",
    "    postOrder = 3\n",
    "    levelOrder = 4\n",
    "\n",
    "class TreeNode:\n",
    "\n",
    "    def __init__(self,value):\n",
    "        self.leftChild = None\n",
    "        self.rightChild = None\n",
    "        self.value = value\n",
    "\n",
    "    def __init__(self,left,right,value):\n",
    "        self.leftChild = left\n",
    "        self.rightChild = right\n",
    "        self.value = value\n",
    "\n",
    "    def __str__(self):\n",
    "        return str(self.value)\n",
    "    "
   ]
  },
  {
   "source": [
    "Traversal\n",
    "遍历"
   ],
   "cell_type": "markdown",
   "metadata": {}
  },
  {
   "source": [
    "Define Order Algorithm\n",
    "定义树的遍历算法"
   ],
   "cell_type": "markdown",
   "metadata": {}
  },
  {
   "cell_type": "code",
   "execution_count": 4,
   "metadata": {},
   "outputs": [],
   "source": [
    "def treeorder(root:TreeNode, ordertype:TreeOrderType):\n",
    "    switcher = {\n",
    "        TreeOrderType.preOrder:TreePreOrder(root),\n",
    "        TreeOrderType.inOrder:TreeInOrder(root),\n",
    "        TreeOrderType.postOrder:TreePostOrder(root),\n",
    "        TreeOrderType.levelOrder:TreeLevelOrder(root),\n",
    "    }\n",
    "    return switcher.get(ordertype,\"Unvaild Order Type\")\n"
   ]
  },
  {
   "source": [
    "### PreOrder\n",
    "### 前序遍历"
   ],
   "cell_type": "markdown",
   "metadata": {}
  },
  {
   "cell_type": "code",
   "execution_count": 5,
   "metadata": {},
   "outputs": [],
   "source": [
    "##PreOrder Algorithm\n",
    "def TreePreOrder(currentNode:TreeNode):\n",
    "    if currentNode != None:\n",
    "        print(currentNode)\n",
    "        TreePreOrder(currentNode.leftChild)\n",
    "        TreePreOrder(currentNode.rightChild)\n"
   ]
  },
  {
   "cell_type": "code",
   "execution_count": 8,
   "metadata": {},
   "outputs": [],
   "source": [
    "##PreOrder UnRescurive\n",
    "def TreePreOrder_UnRescurive(currentNode:TreeNode):\n",
    "    res = []\n",
    "    stack = []\n",
    "    while currentNode != None or len(stack)>0:\n",
    "        while currentNode != None:\n",
    "            stack.append(currentNode)\n",
    "            res.append(currentNode)\n",
    "            currentNode = currentNode.leftchild\n",
    "        parent = stack.pop()\n",
    "        currentNode = parent.rightchild\n",
    "    return res"
   ]
  },
  {
   "source": [
    "### InOrder\n",
    "### 中序遍历"
   ],
   "cell_type": "markdown",
   "metadata": {}
  },
  {
   "cell_type": "code",
   "execution_count": 6,
   "metadata": {},
   "outputs": [],
   "source": [
    "###InOrder\n",
    "###中序遍历\n",
    "def TreeInOrder(currentNode:TreeNode,result = None):\n",
    "    if currentNode.value != None:\n",
    "        TreeInOrder(currentNode.leftChild,result)\n",
    "        print(currentNode)\n",
    "        if result != None:\n",
    "            result += currentNode.value\n",
    "            yield result\n",
    "        TreeInOrder(currentNode.rightChild,result)"
   ]
  },
  {
   "cell_type": "code",
   "execution_count": null,
   "metadata": {},
   "outputs": [],
   "source": [
    "###InOrder UnRescurive\n",
    "###非递归中序遍历\n",
    "def TreeInOrder_UnRecursive(currentNode:TreeNode):\n",
    "    res = []\n",
    "    stack = []\n",
    "    while currentNode != None or len(stack)>0:\n",
    "        while currentNode != None:\n",
    "            stack.append(currentNode)\n",
    "            currentNode = currentNode.leftchild \n",
    "        parent = stack.pop()\n",
    "        res.append(parent)\n",
    "        currentNode = parent.rightchild\n",
    "\n",
    "    return res\n"
   ]
  },
  {
   "source": [
    "PostOrder\n",
    "后序遍历"
   ],
   "cell_type": "markdown",
   "metadata": {}
  },
  {
   "cell_type": "code",
   "execution_count": 7,
   "metadata": {},
   "outputs": [],
   "source": [
    "###PostOrder\n",
    "###后序遍历\n",
    "def TreePostOrder(currentNode:TreeNode,result = None):\n",
    "    if currentNode.value !=None:\n",
    "        TreePostOrder(currentNode.leftChild,result)\n",
    "        TreePostOrder(currentNode.rightChild,result)\n",
    "        print(currentNode)\n",
    "        if result != None:\n",
    "            result += currentNode.value\n",
    "            yield result"
   ]
  },
  {
   "cell_type": "code",
   "execution_count": null,
   "metadata": {},
   "outputs": [],
   "source": [
    "###PostOrder UnRecursive\n",
    "###非递归后序遍历\n",
    "def TreePostOrder(currentNode:TreeNode):\n",
    "    res = []\n",
    "    stack = []\n",
    "    while currentNode != None or len(stack)>0:\n",
    "        while currentNode != None:\n",
    "            stack.append(currentNode)\n",
    "            currentNode = currentNode.leftchild()\n",
    "        parent = stack.pop()\n",
    "        currentNode = parent.rightchild()\n",
    "        while currentNode != None:\n",
    "            res.append(currentNode)\n",
    "            currentNode = currentNode.rightchild()\n",
    "\n",
    "    return res"
   ]
  },
  {
   "source": [
    "LevelOrder\n",
    "层级遍历"
   ],
   "cell_type": "markdown",
   "metadata": {}
  },
  {
   "source": [
    "###LevelOrder\n",
    "###层级遍历\n",
    "def TreeLevelOrder(rootNode:TreeNode,result = None):\n",
    "    queue = SimpleQueue()\n",
    "    queue.put_nowait(rootNode)\n",
    "    while not queue.empty:\n",
    "        currentNode = queue.get_nowait()\n",
    "        print(current)\n",
    "        if result != None:\n",
    "            result += current.value\n",
    "        if currentNode.leftChild != None:\n",
    "            queue.put_nowait(currentNode.leftChild)\n",
    "        if currentNode.rightChild != None:\n",
    "            queue.put_nowait(currentNode.rightChild)\n",
    "\n",
    "        "
   ],
   "cell_type": "code",
   "metadata": {},
   "execution_count": 9,
   "outputs": []
  },
  {
   "source": [
    "## Invert binary tree\n",
    "## 反转二叉树\n",
    "\n",
    "翻转一棵二叉树。\n",
    "\n",
    "示例：\n",
    "\n",
    "输入：\n",
    "\n",
    "     4\n",
    "   /   \\\n",
    "  2     7\n",
    " / \\   / \\\n",
    "1   3 6   9\n",
    "输出：\n",
    "\n",
    "     4\n",
    "   /   \\\n",
    "  7     2\n",
    " / \\   / \\\n",
    "9   6 3   1\n",
    "\n",
    "来源：力扣（LeetCode）\n",
    "链接：https://leetcode-cn.com/problems/invert-binary-tree\n",
    "著作权归领扣网络所有。商业转载请联系官方授权，非商业转载请注明出处。"
   ],
   "cell_type": "markdown",
   "metadata": {}
  },
  {
   "cell_type": "code",
   "execution_count": 2,
   "metadata": {},
   "outputs": [],
   "source": [
    "class Solution_226(object):\n",
    "    def invertTree(self, root):\n",
    "        \"\"\"\n",
    "        :type root: TreeNode\n",
    "        :rtype: TreeNode\n",
    "        \"\"\"\n",
    "        if root.leftchild != None or root.rightchild != None:\n",
    "            root.leftchild,root.rightchild = root.rightchild,root.leftchild\n",
    "        self.invertTree(root.leftchild)\n",
    "        self.invertTree(root.rightchild)\n",
    "\n",
    "    def invertTree_NoRecursive(self,root):\n",
    "        if root == None:\n",
    "            return None\n",
    "        stack = [root]\n",
    "        while len(stack) > 0:\n",
    "            current = stack.pop()\n",
    "            current.leftchild,current.rightchild = current.rightchild, current.leftchild\n",
    "            if current.leftchild:\n",
    "                stack.append(current.leftchild)\n",
    "            if current.rightchild:\n",
    "                stack.append(current.rightchild)\n",
    "        \n",
    "        return root\n",
    "\n",
    "   \n"
   ]
  },
  {
   "source": [
    "## 线段树\n",
    "## Segement Tree\n",
    "\n",
    "https://www.youtube.com/watch?v=8XSfWhZFSBs"
   ],
   "cell_type": "markdown",
   "metadata": {}
  },
  {
   "cell_type": "code",
   "execution_count": 3,
   "metadata": {},
   "outputs": [
    {
     "output_type": "stream",
     "name": "stdout",
     "text": [
      "Mid: 1\n\n\nstart :0\nend :2\nValue :6\nMid: 0\n\n\nstart :0\nend :1\nValue :4\nMid: 1\n\n\nstart :1\nend :1\nValue :3\nMid: 2\n\n\nstart :2\nend :2\nValue :2\n5\n"
     ]
    }
   ],
   "source": [
    "import math\n",
    "class SegementTreeNode:\n",
    "    def __init__(self,nums,start,end):\n",
    "        self.value = 0\n",
    "        self.start = start\n",
    "        self.end = end\n",
    "        self.leftchild = None\n",
    "        self.rightchild = None\n",
    "\n",
    "    def __str__(self):\n",
    "        return str(self.value)\n",
    "\n",
    "    def print(self):\n",
    "        print(\"\\n\")\n",
    "        print(\"start :\"+str(self.start))\n",
    "        print(\"end :\"+str(self.end))\n",
    "        \n",
    "        print(\"Value :\"+str(self.value))\n",
    "        \n",
    "\n",
    "class NumArray(object):\n",
    "\n",
    "    def buildTree(self, nums, start, end):\n",
    "        if start > end:\n",
    "            return None\n",
    "        node = SegementTreeNode(nums,start,end)\n",
    "        if start == end:\n",
    "            node.value = nums[start]\n",
    "        else:\n",
    "            mid = math.floor((end-start)/2)+start\n",
    "            node.leftchild = self.buildTree(nums,start,mid)\n",
    "            node.rightchild = self.buildTree(nums,mid+1,end)\n",
    "            node.value = node.leftchild.value + node.rightchild.value\n",
    "\n",
    "        return node\n",
    "\n",
    "    def __init__(self, nums):\n",
    "        \"\"\"\n",
    "        :type nums: List[int]\n",
    "        \"\"\"\n",
    "        self.root = self.buildTree(nums,0,len(nums)-1)\n",
    "    \n",
    "    def printroot(self):\n",
    "        return str(self.root)\n",
    "        \n",
    "\n",
    "    def update(self, i, val):\n",
    "        \"\"\"\n",
    "        :type i: int\n",
    "        :type val: int\n",
    "        :rtype: None\n",
    "        \"\"\"\n",
    "        self.__updateTree__(self.root,i,val)\n",
    "\n",
    "    def __updateTree__(self,node,index,value):\n",
    "        mid = math.floor((node.end - node.start)/2)+node.start\n",
    "        if node.start == index and node.end == index:\n",
    "            node.value = value\n",
    "            return\n",
    "        elif index <= mid:\n",
    "            self.__updateTree__(node.leftchild,index,mid)\n",
    "        else:\n",
    "            self.__updateTree__(node.rightchild,mid+1,index)\n",
    "        node.value = node.leftchild.value + node.rightchild.value\n",
    "\n",
    "\n",
    "    def sumRange(self, i, j):\n",
    "        \"\"\"\n",
    "        :type i: int\n",
    "        :type j: int\n",
    "        :rtype: int\n",
    "        \"\"\"\n",
    "        value = self.__sumTree__(self.root,i,j)\n",
    "        return value\n",
    "\n",
    "    def __sumTree__(self,node,start,end):\n",
    "        \n",
    "        mid = math.floor((node.end-node.start)/2)+node.start\n",
    "        print(\"Mid: \"+str(mid))\n",
    "        if node != None:\n",
    "            node.print()\n",
    "        if node.start == start and node.end == end:\n",
    "            return node.value\n",
    "        elif end <= mid:\n",
    "            return self.__sumTree__(node.leftchild,start,mid)\n",
    "        elif start >= mid +1:\n",
    "            return self.__sumTree__(node.rightchild,mid+1,end)\n",
    "        else:\n",
    "            return self.__sumTree__(node.leftchild,start,mid) + self.__sumTree__(node.rightchild,mid+1,end)\n",
    "# Your NumArray object will be instantiated and called as such:\n",
    "# obj = NumArray(nums)\n",
    "# obj.update(i,val)\n",
    "# param_2 = obj.sumRange(i,j)\n",
    "\n",
    "arr = NumArray([1,3,5])\n",
    "arr.update(2,2)\n",
    "sum = arr.sumRange(1,2)\n",
    "print(sum)\n"
   ]
  },
  {
   "source": [
    "### 二叉搜索树\n"
   ],
   "cell_type": "markdown",
   "metadata": {}
  },
  {
   "cell_type": "code",
   "execution_count": null,
   "metadata": {},
   "outputs": [],
   "source": [
    "class BST:\n",
    "    def __init__(self):\n",
    "        return None\n",
    "    def search(self,node,parent,value):\n",
    "        if node == None:\n",
    "            return False,node,parent\n",
    "        if node.value == value:\n",
    "            return True,node,parent\n",
    "        elif value < node.value:\n",
    "            return self.search(node.leftchild,node,value)\n",
    "        elif value > node.value:\n",
    "            return self.search(node.rightchild,node,value)\n",
    "        \n",
    "\n",
    "    def insert(self,node,parent,value):\n",
    "        return False\n",
    "    def delete(self,node,value):\n",
    "        return False"
   ]
  },
  {
   "source": [
    "## 平衡二叉树"
   ],
   "cell_type": "markdown",
   "metadata": {}
  },
  {
   "cell_type": "code",
   "execution_count": null,
   "metadata": {},
   "outputs": [],
   "source": [
    "class AVL_Tree_Node:\n",
    "    def __init__(self,value):\n",
    "        self.value = value\n",
    "        self.left = None\n",
    "        self.right = None\n",
    "        self.status = None\n",
    "\n",
    "class AVL:\n",
    "    def __init__(self):\n",
    "        return None\n",
    "\n",
    "    def Right_Rotate(self,node):\n",
    "        #parent = Parent node, \n",
    "        parent = node\n",
    "        #L = parent node's left child\n",
    "        L = parent.left\n",
    "        #Lr = parent nodes's left child's right child\n",
    "        Lr = L.right\n",
    "        #L's right child = parent\n",
    "        L.right = parent\n",
    "        #parent's left child = Lr \n",
    "        parent.left = Lr\n",
    "        # parent node = L \n",
    "        node = L\n",
    "        #return parent\n",
    "        return node\n",
    "    def Left_Rotate(self,node):\n",
    "        #parent = Parent node,\n",
    "        parent = node \n",
    "        #R = parent node's right child\n",
    "        R = parent.right\n",
    "        #Rl = parent nodes's right child's left child\n",
    "        Rl = R.left\n",
    "        #R's left child = parent\n",
    "        R.left = parent\n",
    "        #parent's right child = Rl  \n",
    "        parent.right = Rl\n",
    "        #parent = R\n",
    "        node = R\n",
    "        #return parent\n",
    "        return node\n",
    "    def LeftBalance(self,node,parent):\n",
    "        return None\n",
    "    def RightBalance(self,node,parent):\n",
    "        return None\n",
    "    def Insert(self,node,parent,value):\n",
    "        if node == None:\n",
    "            \n",
    "        #if value equal to current node value\n",
    "        if value == node.value:\n",
    "            #that means we don't need Insert this value return False\n",
    "            growed = False\n",
    "            return False,node,parent,growed \n",
    "        #if value less than current node value\n",
    "        elif value < node.value:\n",
    "            #Insert value to node's left child\n",
    "            flag,node,parent,growed = self.Insert(node.left,node,value)\n",
    "            #if Insert successfully, node's left child grow up\n",
    "            if flag:\n",
    "                #if current node's status is left child higher\n",
    "                if node.status = \"LeftHigher\":\n",
    "                    #we need balance left child \n",
    "                    self.LeftBalance(node,parent)\n",
    "                #if current node's status is right child higher\n",
    "                elif node.status = \"RightHigher\":\n",
    "                    #current node come to balance\n",
    "                    node.status = \"Equal\"\n",
    "                #if current node's status is banlance\n",
    "                elif node.status = \"Equal\":\n",
    "                    #current node come to left child higher status\n",
    "                    node.status = \"LeftHigher\"\n",
    "        #if value great than current node value\n",
    "        else :\n",
    "            #Insert value to node's right child\n",
    "            flag,node,parent,growed = self.Insert(node.right,node,value)\n",
    "            #if Insert successfully, node's right child grow up\n",
    "            if flag:\n",
    "                #if current node's status is left child higher\n",
    "                if node.status = \"LeftHigher\":\n",
    "                    #current node come to balance\n",
    "                    node.status = \"Equal\"\n",
    "                #if current node's status is right child higher\n",
    "                elif node.status = \"RightHigher\":\n",
    "                    #we need balance right child \n",
    "                    self.RightBalance(node)\n",
    "                #if current node's status is banlance\n",
    "                elif node.status = \"Equal\"\n",
    "                #current node come to right child higher status\n",
    "        return None"
   ]
  },
  {
   "cell_type": "code",
   "execution_count": 10,
   "metadata": {},
   "outputs": [
    {
     "output_type": "stream",
     "name": "stdout",
     "text": [
      "123 456 789 0\n0 789 456 123\n"
     ]
    }
   ],
   "source": [
    "a = \"     123 456 789 0\"\n",
    "r = a.strip()\n",
    "print(r)\n",
    "l = a.strip().split(\" \")\n",
    "l.reverse()\n",
    "\n",
    "print(\" \".join(l))"
   ]
  },
  {
   "cell_type": "code",
   "execution_count": null,
   "metadata": {},
   "outputs": [],
   "source": []
  }
 ]
}