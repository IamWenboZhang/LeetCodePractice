{
 "metadata": {
  "language_info": {
   "codemirror_mode": {
    "name": "ipython",
    "version": 3
   },
   "file_extension": ".py",
   "mimetype": "text/x-python",
   "name": "python",
   "nbconvert_exporter": "python",
   "pygments_lexer": "ipython3",
   "version": "3.8.3-final"
  },
  "orig_nbformat": 2,
  "kernelspec": {
   "name": "Python 3.8.3 64-bit ('base': conda)",
   "display_name": "Python 3.8.3 64-bit ('base': conda)",
   "metadata": {
    "interpreter": {
     "hash": "b3ba2566441a7c06988d0923437866b63cedc61552a5af99d1f4fb67d367b25f"
    }
   }
  }
 },
 "nbformat": 4,
 "nbformat_minor": 2,
 "cells": [
  {
   "cell_type": "code",
   "execution_count": null,
   "metadata": {},
   "outputs": [],
   "source": [
    "##Import packages\n",
    "##导入需要的组件包"
   ]
  },
  {
   "cell_type": "code",
   "execution_count": 10,
   "metadata": {},
   "outputs": [],
   "source": [
    "from enum import Enum\n",
    "from queue import SimpleQueue"
   ]
  },
  {
   "cell_type": "code",
   "execution_count": 11,
   "metadata": {},
   "outputs": [],
   "source": [
    "##Define tree structure\n",
    "##定义树结构"
   ]
  },
  {
   "cell_type": "code",
   "execution_count": 12,
   "metadata": {},
   "outputs": [],
   "source": [
    "class TreeOrderType(Enum):\n",
    "    preOrder = 1\n",
    "    inOrder = 2\n",
    "    postOrder = 3\n",
    "    levelOrder = 4\n",
    "\n",
    "class TreeNode:\n",
    "\n",
    "    def __init__(self,value):\n",
    "        self.leftChild = None\n",
    "        self.rightChild = None\n",
    "        self.value = value\n",
    "\n",
    "    def __init__(self,left,right,value):\n",
    "        self.leftChild = left\n",
    "        self.rightChild = right\n",
    "        self.value = value\n",
    "\n",
    "    def __str__(self):\n",
    "        return str(self.value)\n",
    "    "
   ]
  },
  {
   "cell_type": "code",
   "execution_count": null,
   "metadata": {},
   "outputs": [],
   "source": [
    "##Traversal\n",
    "##遍历"
   ]
  },
  {
   "cell_type": "code",
   "execution_count": null,
   "metadata": {},
   "outputs": [],
   "source": [
    "##Define Order Algorithm\n",
    "##定义树的遍历算法"
   ]
  },
  {
   "cell_type": "code",
   "execution_count": 13,
   "metadata": {},
   "outputs": [],
   "source": [
    "def treeorder(root:TreeNode, ordertype:TreeOrderType):\n",
    "    switcher = {\n",
    "        TreeOrderType.preOrder:TreePreOrder(root),\n",
    "        TreeOrderType.inOrder:TreeInOrder(root),\n",
    "        TreeOrderType.postOrder:TreePostOrder(root),\n",
    "        TreeOrderType.levelOrder:TreeLevelOrder(root),\n",
    "    }\n",
    "    return switcher.get(ordertype,\"Unvaild Order Type\")\n"
   ]
  },
  {
   "cell_type": "code",
   "execution_count": null,
   "metadata": {},
   "outputs": [],
   "source": [
    "###PreOrder\n",
    "###前序遍历"
   ]
  },
  {
   "cell_type": "code",
   "execution_count": 14,
   "metadata": {},
   "outputs": [],
   "source": [
    "##PreOrder Algorithm\n",
    "def TreePreOrder(currentNode:TreeNode,result=None):\n",
    "    if currentNode.value != None:\n",
    "        print(currentNode)\n",
    "        if result != None:\n",
    "            result += currentNode.value\n",
    "            yield result\n",
    "        TreePreOrder(currentNode.leftChild,result)\n",
    "        TreePreOrder(currentNode.rightChild,result)"
   ]
  },
  {
   "cell_type": "code",
   "execution_count": 15,
   "metadata": {},
   "outputs": [],
   "source": [
    "###InOrder\n",
    "###中序遍历\n",
    "def TreeInOrder(currentNode:TreeNode,result = None):\n",
    "    if currentNode.value != None:\n",
    "        TreeInOrder(currentNode.leftChild,result)\n",
    "        print(currentNode)\n",
    "        if result != None:\n",
    "            result += currentNode.value\n",
    "            yield result\n",
    "        TreeInOrder(currentNode.rightChild,result)"
   ]
  },
  {
   "cell_type": "code",
   "execution_count": 16,
   "metadata": {},
   "outputs": [],
   "source": [
    "###PostOrder\n",
    "###后序遍历\n",
    "def TreePostOrder(currentNode:TreeNode,result = None):\n",
    "    if currentNode.value !=None:\n",
    "        TreePostOrder(currentNode.leftChild,result)\n",
    "        TreePostOrder(currentNode.rightChild,result)\n",
    "        print(currentNode)\n",
    "        if result != None:\n",
    "            result += currentNode.value\n",
    "            yield result"
   ]
  },
  {
   "cell_type": "code",
   "execution_count": 17,
   "metadata": {},
   "outputs": [],
   "source": [
    "###LevelOrder\n",
    "###层级遍历\n",
    "def TreeLevelOrder(rootNode:TreeNode,result = None):\n",
    "    queue = SimpleQueue()\n",
    "    queue.put_nowait(rootNode)\n",
    "    while not queue.empty:\n",
    "        currentNode = queue.get_nowait()\n",
    "        print(current)\n",
    "        if result != None:\n",
    "            result += current.value\n",
    "        if currentNode.leftChild != None:\n",
    "            queue.put_nowait(currentNode.leftChild)\n",
    "        if currentNode.rightChild != None:\n",
    "            queue.put_nowait(currentNode.rightChild)\n",
    "\n",
    "        "
   ]
  },
  {
   "cell_type": "code",
   "execution_count": null,
   "metadata": {},
   "outputs": [],
   "source": []
  }
 ]
}