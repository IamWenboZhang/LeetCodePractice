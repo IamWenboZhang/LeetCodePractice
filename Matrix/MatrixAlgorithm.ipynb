{
 "cells": [
  {
   "cell_type": "markdown",
   "metadata": {},
   "source": [
    "# Leecode 54.Sprial Matrix"
   ]
  },
  {
   "cell_type": "markdown",
   "metadata": {},
   "source": [
    "54. Spiral Matrix \n",
    "https://leetcode.com/problems/spiral-matrix/ \n",
    "Medium\n",
    "\n",
    "Given an m x n matrix, return all elements of the matrix in spiral order.\n",
    "\n",
    "Example 1:\n",
    "\n",
    "\n",
    "Input: matrix = [[1,2,3],[4,5,6],[7,8,9]]\n",
    "Output: [1,2,3,6,9,8,7,4,5]\n",
    "\n",
    "Example 2:\n",
    "\n",
    "\n",
    "Input: matrix = [[1,2,3,4],[5,6,7,8],[9,10,11,12]]\n",
    "Output: [1,2,3,4,8,12,11,10,9,5,6,7]\n",
    " \n",
    "\n",
    "Constraints:\n",
    "\n",
    "m == matrix.length\n",
    "n == matrix[i].length\n",
    "1 <= m, n <= 10\n",
    "-100 <= matrix[i][j] <= 100"
   ]
  },
  {
   "cell_type": "code",
   "execution_count": 25,
   "metadata": {},
   "outputs": [
    {
     "name": "stdout",
     "output_type": "stream",
     "text": [
      "\n",
      "left --> right\n",
      "X: 0, Y: 0\n",
      "\n",
      "top --> bottom\n",
      "X: 0, Y: 1\n",
      "X: 0, Y: 2\n",
      "X: 0, Y: 3\n",
      "\n",
      "right --> left\n",
      "\n",
      "bottom --> top\n",
      "[1, 2, 3, 4]\n"
     ]
    }
   ],
   "source": [
    "class Solution54(object):\n",
    "    def spiralOrder(self, matrix):\n",
    "        \"\"\"\n",
    "        :type matrix: List[List[int]]\n",
    "        :rtype: List[int]\n",
    "        \"\"\"\n",
    "        res = []\n",
    "        row_begin = 0\n",
    "        row_end = len(matrix)\n",
    "        col_begin = 0\n",
    "        col_end = len(matrix[0])\n",
    "        \n",
    "        current_row = row_begin\n",
    "        current_col = col_begin\n",
    "        while row_begin < row_end and col_begin < col_end:\n",
    "            #left --> right\n",
    "            print(\"\\nleft --> right\")\n",
    "            while current_col < col_end:\n",
    "                print(\"X: {col}, Y: {row}\".format(col=current_col,row = current_row))\n",
    "                current = matrix[current_row][current_col]\n",
    "                res.append(current)\n",
    "                current_col +=1 \n",
    "            row_begin += 1\n",
    "            current_col -=1\n",
    "            current_row +=1\n",
    "            \n",
    "            #top --> bottom\n",
    "            print(\"\\ntop --> bottom\")\n",
    "            while current_row < row_end:\n",
    "                print(\"X: {col}, Y: {row}\".format(col=current_col,row = current_row))\n",
    "                current = matrix[current_row][current_col]\n",
    "                res.append(current)\n",
    "                current_row += 1\n",
    "            col_end -= 1\n",
    "            current_row -= 1\n",
    "            current_col -=1\n",
    "            \n",
    "            #right --> left\n",
    "            print(\"\\nright --> left\")\n",
    "            if current_row >= row_begin :\n",
    "                while current_col >= col_begin:\n",
    "                    print(\"X: {col}, Y: {row}\".format(col=current_col,row = current_row))\n",
    "                    current = matrix[current_row][current_col]\n",
    "                    res.append(current)\n",
    "                    current_col -= 1\n",
    "                row_end -= 1\n",
    "                current_col += 1\n",
    "                current_row -= 1\n",
    "            \n",
    "            #bottom --> top\n",
    "            print(\"\\nbottom --> top\")\n",
    "            if current_col < col_end:\n",
    "                while current_row >= row_begin:\n",
    "                    print(\"X: {col}, Y: {row}\".format(col=current_col,row = current_row))\n",
    "                    current = matrix[current_row][current_col]\n",
    "                    res.append(current)\n",
    "                    current_row -= 1\n",
    "                col_begin += 1\n",
    "                current_row += 1\n",
    "                current_col += 1\n",
    "            \n",
    "        return res\n",
    "\n",
    "#Test 54.Spiral Matrix \n",
    "s_54 = Solution54()\n",
    "#matrix = [[1,2,3,4],[5,6,7,8],[9,10,11,12]]\n",
    "#matrix = [[1,2,3],[4,5,6],[7,8,9],[10,11,12]]\n",
    "#matrix = [[1,2,3,4],[5,6,7,8]]\n",
    "matrix = [[1],[2],[3],[4]]\n",
    "res = s_54.spiralOrder(matrix)\n",
    "print (res)"
   ]
  },
  {
   "cell_type": "markdown",
   "metadata": {},
   "source": [
    "### 关键点(Key Point)"
   ]
  },
  {
   "cell_type": "markdown",
   "metadata": {},
   "source": [
    "防止向右回退 防止向上回退"
   ]
  },
  {
   "cell_type": "code",
   "execution_count": null,
   "metadata": {},
   "outputs": [],
   "source": []
  }
 ],
 "metadata": {
  "kernelspec": {
   "display_name": "Python 3",
   "language": "python",
   "name": "python3"
  },
  "language_info": {
   "codemirror_mode": {
    "name": "ipython",
    "version": 3
   },
   "file_extension": ".py",
   "mimetype": "text/x-python",
   "name": "python",
   "nbconvert_exporter": "python",
   "pygments_lexer": "ipython3",
   "version": "3.8.5"
  }
 },
 "nbformat": 4,
 "nbformat_minor": 4
}
