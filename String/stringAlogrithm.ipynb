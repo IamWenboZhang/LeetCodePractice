{
 "cells": [
  {
   "cell_type": "markdown",
   "metadata": {},
   "source": [
    "# 最长回文字符串"
   ]
  },
  {
   "cell_type": "code",
   "execution_count": 23,
   "metadata": {},
   "outputs": [],
   "source": [
    "#最长回文字符串\n",
    "#https://www.youtube.com/watch?v=ZnzvU03HtYk&t=543s\n",
    "class Solution(object):\n",
    "    def longestPalindrome(self, s):\n",
    "        \"\"\"\n",
    "        :type s: str\n",
    "        :rtype: str\n",
    "        \"\"\"\n",
    "        if len(s) <=1:\n",
    "            return s\n",
    "        # if len(s) ==2:\n",
    "        #     if s[0] == s[1]:\n",
    "        #         return s\n",
    "        result = []\n",
    "        #build a matrix to record each position is palindrome or not\n",
    "        isPalindromic = [[False for i in range(len(s))] for i in range(len(s))]\n",
    "        # for i in range(len(s)):\n",
    "        #     for j in range(len(s)):\n",
    "        #         if s[j] == s[i]:\n",
    "        #             isPalindromic[i][j] = True\n",
    "\n",
    "        for j in range(len(s)):\n",
    "            for i in range(j+1):\n",
    "                #if str only have 2 chars, it is palindromic\n",
    "                if j-i<2:\n",
    "                    isPalindromic[i][j] = (s[i] == s[j])\n",
    "                #if str have more than 2 chars\n",
    "                else:\n",
    "                    isPalindromic[i][j] = (s[j] == s[i] and isPalindromic[i+1][j-1])\n",
    "                #if current position is palindromic and length great than longest palindrome\n",
    "                #update current position to longest palindrome\n",
    "                if isPalindromic[i][j] and j+1-i > len(result):\n",
    "                    result = s[i:j+1]\n",
    "        for row in isPalindromic:\n",
    "            print(row)\n",
    "        return result"
   ]
  },
  {
   "cell_type": "code",
   "execution_count": 25,
   "metadata": {},
   "outputs": [
    {
     "output_type": "stream",
     "name": "stdout",
     "text": [
      "[True, False, False, True, False]\n[False, True, True, False, False]\n[False, False, True, False, False]\n[False, False, False, True, False]\n[False, False, False, False, True]\nabba\n"
     ]
    }
   ],
   "source": [
    "\n",
    "inputvalue = \"abbac\"\n",
    "s = Solution()\n",
    "t = s.longestPalindrome(inputvalue)\n",
    "print(t)"
   ]
  },
  {
   "source": [
    "### 关键点\n",
    "Use matrix to solve this issue\n",
    "First build a matix to "
   ],
   "cell_type": "markdown",
   "metadata": {}
  },
  {
   "cell_type": "markdown",
   "metadata": {},
   "source": [
    "# 最长不重复的字符串"
   ]
  },
  {
   "cell_type": "code",
   "execution_count": 56,
   "metadata": {},
   "outputs": [],
   "source": [
    "#最长不重复的字符串\n",
    "def no_duplicate_str(s):\n",
    "    d = dict()\n",
    "    longest_str = \"\"\n",
    "    i = 0\n",
    "    while i < len(s):\n",
    "        if s[i] not in d.keys():\n",
    "            d[s[i]] = i\n",
    "        else:\n",
    "            #get max str\n",
    "            longest_str = getmaxstr(d,longest_str)\n",
    "            i = d.get(s[i])\n",
    "            d = dict()\n",
    "        if i == len(s)-1:\n",
    "            longest_str = getmaxstr(d,longest_str)\n",
    "        i+=1\n",
    "    return longest_str           \n",
    "\n",
    "def getmaxstr(d,compare_str):\n",
    "    if len(d.items()) > len(compare_str):\n",
    "        tmpstr = \"\"\n",
    "        for v in d.keys():\n",
    "            tmpstr += v\n",
    "        return tmpstr\n",
    "    else:\n",
    "        return compare_str    \n",
    "#Test\n",
    "#最长不重复的字符串\n",
    "test_str = \"dvdf\"\n",
    "r = no_duplicate_str(test_str)\n",
    "print(r)"
   ]
  },
  {
   "cell_type": "markdown",
   "metadata": {},
   "source": [
    "# IP地址(IP address)"
   ]
  },
  {
   "cell_type": "code",
   "execution_count": 16,
   "metadata": {},
   "outputs": [
    {
     "output_type": "stream",
     "name": "stdout",
     "text": [
      "\n\n0.155.167.255\n0.155.167.255\n\n\n00.255.255.245\n00.255.255.245\n\n\n100.200.03.04\n100.200.03.04\n\n\n1.00.000.40\n1.00.000.40\n\n\n255.255.255.255\n255.255.255.255\n\n\n1.249.248.255\n1.249.248.255\n\n\n1.299.246.256\n\n\n哈哈哈.255.255.255\n\n\n . .\n\n\n12,23,55\n"
     ]
    }
   ],
   "source": [
    "import re\n",
    "pattern = r\"((2(5[0-5]|[0-4]\\d))|[0-1]?\\d{1,2})(\\.((2(5[0-5]|[0-4]\\d))|[0-1]?\\d{1,2})){3}\"\n",
    "c = re.compile(pattern)\n",
    "ips = [\"0.155.167.255\",\"00.255.255.245\",\n",
    "       \"100.200.03.04\",\"1.00.000.40\",\"255.255.255.255\",\n",
    "       \"1.249.248.255\",\"1.299.246.256\",\"哈哈哈.255.255.255\",\n",
    "       \" . .\",\"12,23,55\"]\n",
    "\n",
    "for ip in ips:\n",
    "    print(\"\\n\")\n",
    "    print(ip)\n",
    "#    print(isIP(ip))\n",
    "#     m = re.match(complie,ip)\n",
    "#     if m != None:\n",
    "#         print(m.string)\n",
    "#     else:\n",
    "#         print(\"not match\")\n",
    "    s = re.search(c,ip)\n",
    "    if s != None:\n",
    "        print(s.group())\n",
    "        \n",
    "        \n",
    "        \n",
    "def isIP(s):\n",
    "    s.replace(\" \",\"\")\n",
    "    nums = s.split(\".\")\n",
    "    if len(nums) == 4:\n",
    "        try:\n",
    "            for num in nums:\n",
    "                tmp = int(num)\n",
    "                if tmp >255:\n",
    "                    return False\n",
    "        except:\n",
    "            return False\n",
    "        return True\n",
    "    else:\n",
    "        return False"
   ]
  },
  {
   "cell_type": "code",
   "execution_count": 26,
   "metadata": {},
   "outputs": [
    {
     "output_type": "stream",
     "name": "stdout",
     "text": [
      "['0.155.167.255']\n"
     ]
    }
   ],
   "source": [
    "ips = \"this is a ip 0.155.167.255\"\n",
    "findC=re.compile(r\"\\b(?:[0-9]{1,3}\\.){3}[0-9]{1,3}\\b\")\n",
    "al =findC.findall(ips)\n",
    "print(al)\n",
    "# for i in al:\n",
    "#     print(\"\\n\")\n",
    "#     print(al)"
   ]
  },
  {
   "source": [
    "# KMP"
   ],
   "cell_type": "markdown",
   "metadata": {}
  },
  {
   "cell_type": "code",
   "execution_count": 42,
   "metadata": {
    "tags": []
   },
   "outputs": [
    {
     "output_type": "stream",
     "name": "stdout",
     "text": [
      "[-1, 0, 1, 2, 3, 0]\nCurrent original index: 0\nCurrent pattern index: 0\nCurrent original index: 1\nCurrent pattern index: 1\nCurrent original index: 2\nCurrent pattern index: 2\nCurrent original index: 3\nCurrent pattern index: 3\nCurrent original index: 4\nCurrent pattern index: 4\nCurrent original index: 5\nCurrent pattern index: 5\n5\nCurrent original index: 6\nCurrent pattern index: 1\nCurrent original index: 7\nCurrent pattern index: 2\nCurrent original index: 8\nCurrent pattern index: 3\nCurrent original index: 9\nCurrent pattern index: 4\nCurrent original index: 9\nCurrent pattern index: 3\nCurrent original index: 10\nCurrent pattern index: 4\nCurrent original index: 11\nCurrent pattern index: 5\n5\n[0, 6]\n"
     ]
    }
   ],
   "source": [
    "def get_next_table(pattern):\n",
    "    #The max length when prefix equal to suffix\n",
    "    length = 0\n",
    "    next_table = [-1]*len(pattern)\n",
    "    #The first item of prefix should be 0\n",
    "    next_table[0] = 0\n",
    "    #Traverse each element in pattern\n",
    "    index = 1\n",
    "    while index < len(pattern):\n",
    "        #if element equal to pattern[length]\n",
    "        if  pattern[index] == pattern[length]:\n",
    "            #that means prefix+pattern[length] equal to suffix + element, so max length need + 1\n",
    "            length += 1\n",
    "            next_table[index] = length\n",
    "            #move to next element\n",
    "            index +=1\n",
    "        #if element not equal to pattern[length]\n",
    "        else:\n",
    "            #that means new prefix(prefix + pattern[length]) not equal to new suffix(suffix + element)\n",
    "            #find current max prefix's last item and get it's prefix length, update length  to this value\n",
    "            if length > 0:\n",
    "                length = next_table[length -1]\n",
    "            else:\n",
    "                next_table[index] = length                \n",
    "                index +=1\n",
    "    for n in range(len(next_table)-1,-1,-1):\n",
    "        next_table[n] = next_table[n-1]\n",
    "\n",
    "\n",
    "    next_table[0] = -1        \n",
    "    return next_table\n",
    "\n",
    "\n",
    "def KMP_search(orignal_str,pattern):\n",
    "    next_table = get_next_table(pattern)\n",
    "    result = []\n",
    "    orignal_index = 0\n",
    "    pattern_index = 0\n",
    "    #Traverse each element in original_str and each element in pattern\n",
    "    while orignal_index < len(orignal_str):\n",
    "        cur_orignal = orignal_str[orignal_index]\n",
    "        cur_pattern = pattern[pattern_index]\n",
    "        print(\"Current original index: \"+str(orignal_index))\n",
    "        print(\"Current pattern index: \"+str(pattern_index))\n",
    "        #if pattern_index equal to the length of pattern\n",
    "        if pattern_index == len(pattern)-1 and pattern[pattern_index] == orignal_str[orignal_index]:\n",
    "            #that means a matched string has been found at original_str's (orignal_index-pattern_index)\n",
    "            result.append(orignal_index-pattern_index)\n",
    "            print(pattern_index)\n",
    "            pattern_index = next_table[pattern_index]\n",
    "        if cur_orignal == cur_pattern:\n",
    "            orignal_index += 1\n",
    "            pattern_index += 1\n",
    "        else:\n",
    "            pattern_index = next_table[pattern_index]\n",
    "            if pattern_index == -1:\n",
    "                pattern_index += 1\n",
    "                orignal_index += 1\n",
    "    return result\n",
    "\n",
    "p = \"AAAABA\"\n",
    "#p = \"ABAB\"\n",
    "#p =  \"cd\"\n",
    "res = get_next_table(p)\n",
    "print(res)\n",
    "#test = \"BBABABcdABABsss\"\n",
    "test = \"AAAABAAAAABA\"\n",
    "res = KMP_search(test,p)\n",
    "print(res)\n"
   ]
  },
  {
   "cell_type": "code",
   "execution_count": 32,
   "metadata": {},
   "outputs": [
    {
     "output_type": "stream",
     "name": "stdout",
     "text": [
      "[0, 1, 2, 3, 0, -1]\n"
     ]
    }
   ],
   "source": [
    "p = \"AAAABA\"\n",
    "#p = \"ABAB\"\n",
    "#p =  \"cd\"\n",
    "res = get_next_table(p)\n",
    "print(res)"
   ]
  },
  {
   "source": [
    "# 洗牌算法 \n",
    "# Knuth 洗牌算法"
   ],
   "cell_type": "markdown",
   "metadata": {}
  },
  {
   "cell_type": "code",
   "execution_count": 2,
   "metadata": {},
   "outputs": [],
   "source": [
    "import random\n",
    "\n",
    "class shuffle_solution:\n",
    "    def __init__(self,array):\n",
    "        self.array = array\n",
    "\n",
    "    def Knuth_Shuffle(self):\n",
    "        for i in range(len(self.array)):\n",
    "            random_index = random.randrange(0,len(self.array))\n",
    "            self.array[i],self.array[random_index] = self.array[random_index],self.array[i]\n",
    "        return self.array"
   ]
  },
  {
   "cell_type": "code",
   "execution_count": 6,
   "metadata": {},
   "outputs": [
    {
     "output_type": "stream",
     "name": "stdout",
     "text": [
      "[3, 2, 6, 5, 1, 7, 4]\n"
     ]
    }
   ],
   "source": [
    "nums = [1,2,3,4,5,6,7]\n",
    "shuffle= shuffle_solution(nums)\n",
    "res = shuffle.Knuth_Shuffle()\n",
    "print(res)"
   ]
  },
  {
   "source": [
    "300. Longest Increasing Subsequence\n",
    "Medium\n",
    "\n",
    "6231\n",
    "\n",
    "143\n",
    "\n",
    "Add to List\n",
    "\n",
    "Share\n",
    "Given an integer array nums, return the length of the longest strictly increasing subsequence.\n",
    "\n",
    "A subsequence is a sequence that can be derived from an array by deleting some or no elements without changing the order of the remaining elements. For example, [3,6,2,7] is a subsequence of the array [0,3,1,6,2,2,7].\n",
    "\n",
    " \n",
    "\n",
    "Example 1:\n",
    "\n",
    "Input: nums = [10,9,2,5,3,7,101,18]\n",
    "Output: 4\n",
    "Explanation: The longest increasing subsequence is [2,3,7,101], therefore the length is 4.\n",
    "Example 2:\n",
    "\n",
    "Input: nums = [0,1,0,3,2,3]\n",
    "Output: 4\n",
    "Example 3:\n",
    "\n",
    "Input: nums = [7,7,7,7,7,7,7]\n",
    "Output: 1\n",
    " \n",
    "\n",
    "Constraints:\n",
    "\n",
    "1 <= nums.length <= 2500\n",
    "-104 <= nums[i] <= 104\n",
    " \n",
    "\n",
    "Follow up:\n",
    "\n",
    "Could you come up with the O(n2) solution?\n",
    "Could you improve it to O(n log(n)) time complexity?"
   ],
   "cell_type": "markdown",
   "metadata": {}
  },
  {
   "cell_type": "code",
   "execution_count": 7,
   "metadata": {},
   "outputs": [],
   "source": [
    "    def lengthOfLIS(nums):\n",
    "        \"\"\"\n",
    "        :type nums: List[int]\n",
    "        :rtype: int\n",
    "        \"\"\"\n",
    "        #get each item's longest raise subsequence\n",
    "        max_lrsqs = []\n",
    "        max_LIS = 0\n",
    "        #traverse each item in nums\n",
    "        for i in range(len(nums)):\n",
    "        #if item is first item, length = 1\n",
    "            cur_longest_raise_sq_len = 1\n",
    "            if i == 0:\n",
    "                max_lrsqs.clear()\n",
    "                max_lrsqs.append(cur_longest_raise_sq_len)\n",
    "                continue\n",
    "        #else get all previous items's longest raise subsequence\n",
    "            for pre_j in range(i+1):\n",
    "        #traverse all previous item                    \n",
    "        #if current previous item less than current item,that means current previous item's longest raise sub sequence add current item will be a new longest raise subsequence\n",
    "                if nums[pre_j] < nums[i]:\n",
    "                    print(\"Previous index: \" + str(pre_j))\n",
    "                    print(\"Previous num: \" + str(nums[pre_j]))\n",
    "                    print(\"Current nums: \" + str(nums[i]))\n",
    "                    new_sq_len = max_lrsqs[pre_j] + 1\n",
    "        #compare the length of new sequence and current item's longest subsequence length        \n",
    "        #if the length of new sequence great than current item's longest subsequence length        \n",
    "        #update current item's longest subsequence length to new sequence's length\n",
    "                    if new_sq_len > cur_longest_raise_sq_len:\n",
    "                        cur_longest_raise_sq_len = new_sq_len\n",
    "        #after traverse previous item, we will get correct longest subsequence to current item\n",
    "        #compare current item's longest subsequence with whole list's max length\n",
    "        #if current item's longest subsequence greater than whole list's max length\n",
    "        #update whole list's max length to current item's longest subsequence\n",
    "            max_lrsqs.append(cur_longest_raise_sq_len)\n",
    "            print(max_lrsqs)\n",
    "            if cur_longest_raise_sq_len > max_LIS:                \n",
    "                max_LIS = cur_longest_raise_sq_len\n",
    "        return max_LIS"
   ]
  },
  {
   "cell_type": "code",
   "execution_count": 8,
   "metadata": {},
   "outputs": [
    {
     "output_type": "stream",
     "name": "stdout",
     "text": [
      "Previous index: 0\nPrevious num: 0\nCurrent nums: 1\n[1, 2]\n[1, 2, 1]\nPrevious index: 0\nPrevious num: 0\nCurrent nums: 3\nPrevious index: 1\nPrevious num: 1\nCurrent nums: 3\nPrevious index: 2\nPrevious num: 0\nCurrent nums: 3\n[1, 2, 1, 3]\nPrevious index: 0\nPrevious num: 0\nCurrent nums: 2\nPrevious index: 1\nPrevious num: 1\nCurrent nums: 2\nPrevious index: 2\nPrevious num: 0\nCurrent nums: 2\n[1, 2, 1, 3, 3]\nPrevious index: 0\nPrevious num: 0\nCurrent nums: 3\nPrevious index: 1\nPrevious num: 1\nCurrent nums: 3\nPrevious index: 2\nPrevious num: 0\nCurrent nums: 3\nPrevious index: 4\nPrevious num: 2\nCurrent nums: 3\n[1, 2, 1, 3, 3, 4]\n4\n"
     ]
    }
   ],
   "source": [
    "#nums = [10,9,2,5,3,7,101,18]\n",
    "nums = [0,1,0,3,2,3]\n",
    "s = lengthOfLIS(nums)\n",
    "print(s)"
   ]
  },
  {
   "cell_type": "code",
   "execution_count": null,
   "metadata": {},
   "outputs": [],
   "source": []
  }
 ],
 "metadata": {
  "kernelspec": {
   "name": "python3",
   "display_name": "Python 3.7.8 64-bit",
   "metadata": {
    "interpreter": {
     "hash": "57baa5815c940fdaff4d14510622de9616cae602444507ba5d0b6727c008cbd6"
    }
   }
  },
  "language_info": {
   "codemirror_mode": {
    "name": "ipython",
    "version": 3
   },
   "file_extension": ".py",
   "mimetype": "text/x-python",
   "name": "python",
   "nbconvert_exporter": "python",
   "pygments_lexer": "ipython3",
   "version": "3.7.8-final"
  }
 },
 "nbformat": 4,
 "nbformat_minor": 2
}