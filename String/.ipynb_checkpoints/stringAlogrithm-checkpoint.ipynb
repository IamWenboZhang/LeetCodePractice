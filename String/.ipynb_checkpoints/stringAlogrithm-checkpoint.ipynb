{
 "cells": [
  {
   "cell_type": "markdown",
   "metadata": {},
   "source": [
    "# 最长回文字符串"
   ]
  },
  {
   "cell_type": "code",
   "execution_count": null,
   "metadata": {},
   "outputs": [],
   "source": [
    "#最长回文字符串\n",
    "#https://www.youtube.com/watch?v=ZnzvU03HtYk&t=543s\n",
    "class Solution(object):\n",
    "    def longestPalindrome(self, s):\n",
    "        \"\"\"\n",
    "        :type s: str\n",
    "        :rtype: str\n",
    "        \"\"\"\n",
    "        if len(s) <=1:\n",
    "            return s\n",
    "        if len(s) ==2:\n",
    "            if s[0] == s[1]:\n",
    "                return s\n",
    "        result = []\n",
    "        isPalindromic = [[False for i in range(len(s))] for i in range(len(s))]\n",
    "        # for i in range(len(s)):\n",
    "        #     for j in range(len(s)):\n",
    "        #         if s[j] == s[i]:\n",
    "        #             isPalindromic[i][j] = True\n",
    "\n",
    "        for j in range(len(s)):\n",
    "            for i in range(j+1):\n",
    "                if j-i<2:\n",
    "                    isPalindromic[i][j] = (s[i] == s[j])\n",
    "                else:\n",
    "                    isPalindromic[i][j] = (s[j] == s[i] and isPalindromic[i+1][j-1])\n",
    "\n",
    "                if isPalindromic[i][j] and j+1-i > len(result):\n",
    "                    result = s[i:j+1]\n",
    "        return result\n",
    "\n",
    "\n",
    "inputvalue = \"abcda\"\n",
    "s = Solution()\n",
    "t = s.longestPalindrome(inputvalue)\n",
    "print(t)"
   ]
  },
  {
   "cell_type": "markdown",
   "metadata": {},
   "source": [
    "# 最长不重复的字符串"
   ]
  },
  {
   "cell_type": "code",
   "execution_count": 56,
   "metadata": {},
   "outputs": [],
   "source": [
    "#最长不重复的字符串\n",
    "def no_duplicate_str(s):\n",
    "    d = dict()\n",
    "    longest_str = \"\"\n",
    "    i = 0\n",
    "    while i < len(s):\n",
    "        if s[i] not in d.keys():\n",
    "            d[s[i]] = i\n",
    "        else:\n",
    "            #get max str\n",
    "            longest_str = getmaxstr(d,longest_str)\n",
    "            i = d.get(s[i])\n",
    "            d = dict()\n",
    "        if i == len(s)-1:\n",
    "            longest_str = getmaxstr(d,longest_str)\n",
    "        i+=1\n",
    "    return longest_str           \n",
    "\n",
    "def getmaxstr(d,compare_str):\n",
    "    if len(d.items()) > len(compare_str):\n",
    "        tmpstr = \"\"\n",
    "        for v in d.keys():\n",
    "            tmpstr += v\n",
    "        return tmpstr\n",
    "    else:\n",
    "        return compare_str    \n",
    "#Test\n",
    "#最长不重复的字符串\n",
    "test_str = \"dvdf\"\n",
    "r = no_duplicate_str(test_str)\n",
    "print(r)"
   ]
  },
  {
   "cell_type": "markdown",
   "metadata": {},
   "source": [
    "# IP地址(IP address)"
   ]
  },
  {
   "cell_type": "code",
   "execution_count": null,
   "metadata": {},
   "outputs": [],
   "source": []
  }
 ],
 "metadata": {
  "kernelspec": {
   "display_name": "Python 3",
   "language": "python",
   "name": "python3"
  },
  "language_info": {
   "codemirror_mode": {
    "name": "ipython",
    "version": 3
   },
   "file_extension": ".py",
   "mimetype": "text/x-python",
   "name": "python",
   "nbconvert_exporter": "python",
   "pygments_lexer": "ipython3",
   "version": "3.8.5"
  }
 },
 "nbformat": 4,
 "nbformat_minor": 2
}
