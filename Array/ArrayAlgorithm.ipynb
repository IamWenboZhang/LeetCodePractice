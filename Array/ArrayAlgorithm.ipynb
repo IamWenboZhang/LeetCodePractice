{
 "metadata": {
  "language_info": {
   "codemirror_mode": {
    "name": "ipython",
    "version": 3
   },
   "file_extension": ".py",
   "mimetype": "text/x-python",
   "name": "python",
   "nbconvert_exporter": "python",
   "pygments_lexer": "ipython3",
   "version": "3.7.8-final"
  },
  "orig_nbformat": 2,
  "kernelspec": {
   "name": "python3",
   "display_name": "Python 3.7.8 64-bit",
   "metadata": {
    "interpreter": {
     "hash": "57baa5815c940fdaff4d14510622de9616cae602444507ba5d0b6727c008cbd6"
    }
   }
  }
 },
 "nbformat": 4,
 "nbformat_minor": 2,
 "cells": [
  {
   "source": [
    "# 洗牌算法 \n",
    "### Knuth 洗牌算法"
   ],
   "cell_type": "markdown",
   "metadata": {}
  },
  {
   "cell_type": "code",
   "execution_count": 7,
   "metadata": {},
   "outputs": [],
   "source": [
    "import random\n",
    "\n",
    "class shuffle_solution:\n",
    "    def __init__(self,array):\n",
    "        self.array = array\n",
    "\n",
    "    def Knuth_Shuffle(self):\n",
    "        #Traverse list\n",
    "        for i in range(len(self.array)):\n",
    "            #get a random index from range(0-list length)\n",
    "            random_index = random.randrange(0,len(self.array))\n",
    "            #swap random index value and current index value\n",
    "            self.array[i],self.array[random_index] = self.array[random_index],self.array[i]\n",
    "        return self.array"
   ]
  },
  {
   "cell_type": "code",
   "execution_count": 8,
   "metadata": {},
   "outputs": [
    {
     "output_type": "stream",
     "name": "stdout",
     "text": [
      "[3, 1, 7, 2, 5, 4, 6]\n"
     ]
    }
   ],
   "source": [
    "nums = [1,2,3,4,5,6,7]\n",
    "shuffle= shuffle_solution(nums)\n",
    "res = shuffle.Knuth_Shuffle()\n",
    "print(res)"
   ]
  },
  {
   "source": [
    "# 输入一个正数 n，输出所有和为 n 的连续正数序列\n",
    "问题：\n",
    "\n",
    "输入一个正数n，输出所有和为 n 的连续正数序列。例如：输入15，由于1+2+3+4+5 = 4+5+6 = 7+8=15，所以输出3个连续序列1-5、4-6和7-8。"
   ],
   "cell_type": "markdown",
   "metadata": {}
  },
  {
   "cell_type": "code",
   "execution_count": 28,
   "metadata": {},
   "outputs": [],
   "source": [
    "def get_sequence(n):\n",
    "    #start from any value\n",
    "    for i in range(1,n+1):\n",
    "        count = i\n",
    "        #add behind values\n",
    "        for j in range(i+1,n+1):\n",
    "            count += j\n",
    "            #if sum equal to n that means []\n",
    "            if count == n:\n",
    "                #print\n",
    "                res = [v for v in range(i, j+1)]\n",
    "                print(res)\n",
    "                break\n",
    "            elif count > n:\n",
    "                break "
   ]
  },
  {
   "cell_type": "code",
   "execution_count": 29,
   "metadata": {},
   "outputs": [
    {
     "output_type": "stream",
     "name": "stdout",
     "text": [
      "[1, 2, 3, 4, 5, 6]\n[6, 7, 8]\n[10, 11]\n"
     ]
    }
   ],
   "source": [
    "get_sequence(21)"
   ]
  },
  {
   "source": [
    "## 给定一个带有重叠数据的有序表，如何快速找到某个X的重复次数，如果X不在表中的话，找出临近的数的重复个数。"
   ],
   "cell_type": "markdown",
   "metadata": {}
  },
  {
   "cell_type": "code",
   "execution_count": 39,
   "metadata": {},
   "outputs": [],
   "source": [
    "def get_duplicate_dict(l):\n",
    "    res=dict()\n",
    "    previous = None\n",
    "    duplicate_time = 1\n",
    "    for index in range(len(l)):\n",
    "        value = l[index]\n",
    "        if previous != None:\n",
    "            print(\"Current: {current} previous: {pre} \".format(current=value,pre=previous))\n",
    "            if value == previous:\n",
    "                duplicate_time += 1\n",
    "            else:\n",
    "                if duplicate_time > 1:\n",
    "                    res[previous] = duplicate_time\n",
    "                    duplicate_time = 1\n",
    "        previous = value\n",
    "        if index == len(l)-1:\n",
    "            if duplicate_time > 1:\n",
    "                    res[previous] = duplicate_time\n",
    "                    duplicate_time = 1\n",
    "    return res"
   ]
  },
  {
   "cell_type": "code",
   "execution_count": 92,
   "metadata": {},
   "outputs": [
    {
     "output_type": "stream",
     "name": "stdout",
     "text": [
      "Current: 2 previous: 1 \nCurrent: 3 previous: 2 \nCurrent: 3 previous: 3 \nCurrent: 3 previous: 3 \nCurrent: 4 previous: 3 \nCurrent: 4 previous: 4 \nCurrent: 5 previous: 4 \nCurrent: 6 previous: 5 \nCurrent: 7 previous: 6 \nCurrent: 8 previous: 7 \nCurrent: 9 previous: 8 \nCurrent: 9 previous: 9 \n{3: 3, 4: 2, 9: 2}\n"
     ]
    }
   ],
   "source": [
    "l = [1,2,3,3,3,4,4,5,6,7,8,9,9]\n",
    "res = get_duplicate_dict(l)\n",
    "print(res)\n"
   ]
  },
  {
   "cell_type": "code",
   "execution_count": 96,
   "metadata": {},
   "outputs": [],
   "source": [
    "\n",
    "def get_duplicate_dict_2(l,find_value):\n",
    "    length = len(l)\n",
    "    left = 0\n",
    "    right = length -1\n",
    "    find_pos = -1\n",
    "    while left < right:\n",
    "        mid = int((right - left)/2) + left\n",
    "        if find_value == l[mid]:\n",
    "            find_pos = mid\n",
    "            break\n",
    "        elif find_value < l[mid]:\n",
    "            right = mid\n",
    "        else:\n",
    "            left = mid\n",
    "    print(str(find_value) + \" was locate on \" + str(find_pos))\n",
    "    left_step = -1\n",
    "    right_step = 1\n",
    "    duplicate_pos_left,duplicate_time_left = checkDuplicate(l,find_pos,left_step,-1,1)   \n",
    "    print(\"Left duplicate pos is:{left_pos},duplicate time is: {left_time}\".format(left_pos= duplicate_pos_left,left_time=duplicate_time_left))             \n",
    "    duplicate_pos_right,duplicate_time_right = checkDuplicate(l,find_pos,right_step,-1,1)\n",
    "    print(\"Right duplicate pos is:{right_pos},duplicate time is: {right_time}\".format(right_pos= duplicate_pos_right,right_time=duplicate_time_right))        \n",
    "    duplicate_time = 1\n",
    "    duplicate_value = None\n",
    "    if duplicate_pos_left == duplicate_pos_right:\n",
    "        duplicate_time = duplicate_time_left+duplicate_time_right\n",
    "    else:\n",
    "        if abs(duplicate_pos_left-find_pos)< abs(duplicate_pos_right-find_pos):\n",
    "            duplicate_time = duplicate_time_left\n",
    "            duplicate_value = l[duplicate_pos_left]\n",
    "        else:\n",
    "            duplicate_time = duplicate_time_right\n",
    "            duplicate_value = l[duplicate_pos_right]\n",
    "    print(\"Duplicate num is: \"+str(duplicate_value) + \" Duplicate time: \"+str(duplicate_time))\n",
    "\n",
    "def checkDuplicate(l,pos,step, duplicate_pos, duplicate_time):\n",
    "    after_move = pos+step\n",
    "    print(\"After move position will be:\"+str(after_move))\n",
    "    previous = l[pos]\n",
    "    if after_move >=0 and after_move < len(l):\n",
    "        moved = l[after_move]\n",
    "        if moved == previous:\n",
    "            print(\"Position {moved} and position {previous} was duplicated\".format(moved= after_move,previous= pos))\n",
    "            if duplicate_pos == -1:\n",
    "                duplicate_pos = pos\n",
    "                duplicate_time += 1\n",
    "            elif moved == previous==l[duplicate_pos]:\n",
    "                duplicate_time += 1     \n",
    "        else:\n",
    "            if previous==l[duplicate_pos] and duplicate_time > 1:\n",
    "                 print(\"Duplicating start from {duplicate_pos} and duplicate {duplicate_time} times\".format(duplicate_pos=duplicate_pos,duplicate_time=duplicate_time))\n",
    "                 return duplicate_pos,duplicate_time   \n",
    "            duplicate_pos = -1\n",
    "            duplicate_time = 1\n",
    "        return checkDuplicate(l,after_move,step,duplicate_pos,duplicate_time)\n",
    "    else:\n",
    "        return duplicate_pos,duplicate_time\n"
   ]
  },
  {
   "cell_type": "code",
   "execution_count": 97,
   "metadata": {},
   "outputs": [
    {
     "output_type": "stream",
     "name": "stdout",
     "text": [
      "4 was locate on 6\nAfter move position will be:5\nPosition 5 and position 6 was duplicated\nAfter move position will be:4\nDuplicating start from 6 and duplicate 2 times\nLeft duplicate pos is:6,duplicate time is: 2\nAfter move position will be:7\nAfter move position will be:8\nAfter move position will be:9\nAfter move position will be:10\nAfter move position will be:11\nAfter move position will be:12\nPosition 12 and position 11 was duplicated\nAfter move position will be:13\nRight duplicate pos is:11,duplicate time is: 2\nDuplicate num is: 4 Duplicate time: 2\n"
     ]
    }
   ],
   "source": [
    "l = [1,2,3,3,3,4,4,5,6,7,8,9,9]\n",
    "res = get_duplicate_dict_2(l,4)"
   ]
  },
  {
   "cell_type": "code",
   "execution_count": null,
   "metadata": {},
   "outputs": [],
   "source": []
  }
 ]
}