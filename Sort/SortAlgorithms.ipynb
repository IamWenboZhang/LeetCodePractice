{
 "metadata": {
  "language_info": {
   "codemirror_mode": {
    "name": "ipython",
    "version": 3
   },
   "file_extension": ".py",
   "mimetype": "text/x-python",
   "name": "python",
   "nbconvert_exporter": "python",
   "pygments_lexer": "ipython3",
   "version": "3.7.3-final"
  },
  "orig_nbformat": 2,
  "kernelspec": {
   "name": "python3",
   "display_name": "Python 3.7.3 64-bit",
   "metadata": {
    "interpreter": {
     "hash": "5edc29c2ed010d6458d71a83433b383a96a8cbd3efe8531bc90c4b8a5b8bcec9"
    }
   }
  }
 },
 "nbformat": 4,
 "nbformat_minor": 2,
 "cells": [
  {
   "source": [
    "Sort Algorithms\n",
    "排序算法"
   ],
   "cell_type": "markdown",
   "metadata": {}
  },
  {
   "cell_type": "code",
   "execution_count": 154,
   "metadata": {},
   "outputs": [],
   "source": [
    "from enum import Enum\n",
    "class SortType(Enum):\n",
    "    BubbleSort = 1\n",
    "    QuickSort = 2\n",
    "    InsertionSort =3\n",
    "    ShellSort = 4\n",
    "    SelectionSort = 5\n",
    "    HeapSort = 6\n",
    "    MergeSort = 7\n",
    "    CountingSort = 8\n",
    "    BucketSort = 9\n",
    "    RadixSort = 10"
   ]
  },
  {
   "source": [
    "Comparing Sort \n",
    "比较类排序"
   ],
   "cell_type": "markdown",
   "metadata": {}
  },
  {
   "source": [
    "Exchange Sort 交换型排序"
   ],
   "cell_type": "markdown",
   "metadata": {}
  },
  {
   "cell_type": "code",
   "execution_count": 155,
   "metadata": {},
   "outputs": [],
   "source": [
    "#Bubble Sort 冒泡排序\n",
    "def BubbleSort(array):\n",
    "    for i in range(len(array)):\n",
    "        for j in range(i+1,len(array)):\n",
    "            if array[j] < array[i]:\n",
    "              array[i],array[j] = array[j],array[i]\n",
    "    return array"
   ]
  },
  {
   "cell_type": "code",
   "execution_count": 156,
   "metadata": {},
   "outputs": [],
   "source": [
    "#Quick Sort 快速排序\n",
    "def QuickSort(array):\n",
    "    sortpartation(array,0,len(array)-1)\n",
    "    return array\n",
    "def sortpartation(array,startindex,endindex):\n",
    "    if startindex < endindex:\n",
    "        pivot = array[startindex]\n",
    "        left = startindex\n",
    "        right = endindex\n",
    "\n",
    "        while left < right:\n",
    "            while left< right and array[right] > pivot:\n",
    "                right -= 1\n",
    "            if left < right:\n",
    "                array[left],array[right] = array[right], array[left]\n",
    "                left +=1         \n",
    "            while left < right and array[left] < pivot:\n",
    "                left += 1\n",
    "            if left < right:\n",
    "                array[left],array[right] = array[right], array[left]\n",
    "                right -= 1\n",
    "                \n",
    "        array[left] = pivot\n",
    "        sortpartation(array, startindex, left)\n",
    "        sortpartation(array, left+1, endindex)"
   ]
  },
  {
   "source": [
    "Insertion Sort 插入型排序"
   ],
   "cell_type": "markdown",
   "metadata": {}
  },
  {
   "cell_type": "code",
   "execution_count": 192,
   "metadata": {},
   "outputs": [],
   "source": [
    "#Insertion Sort\n",
    "def InsertionSort(array):\n",
    "    length = len(array)\n",
    "    for i in range(1,length):\n",
    "        preindex = i - 1\n",
    "        current = array[i]\n",
    "        while preindex >= 0 and current < array[preindex]:\n",
    "            preindex -= 1\n",
    "        for j in range(i,preindex+1,-1):\n",
    "            array[j] = array[j-1]\n",
    "        array[preindex+1] = current\n",
    "    return array"
   ]
  },
  {
   "cell_type": "code",
   "execution_count": 214,
   "metadata": {},
   "outputs": [],
   "source": [
    "#Shell Sort\n",
    "import math\n",
    "def ShellSort(array):\n",
    "    gap = len(array)-1\n",
    "    while math.floor(gap/2) > 0:\n",
    "        gap = math.floor(gap/2)        \n",
    "        for i in range(0,len(array),gap):\n",
    "            if i < len(array):\n",
    "                currentindex = i\n",
    "                current = array[i]\n",
    "                preindex = currentindex - gap\n",
    "                while preindex >= 0 and current < array[preindex]:\n",
    "                    preindex -= gap\n",
    "                for j in range(i,preindex,-gap):\n",
    "                    array[j] = array[j - gap]\n",
    "                array[preindex+gap] = current\n",
    "\n",
    "                # while currentindex < len(array) and current < array[currentindex - gap]:\n",
    "                #     #print(currentindex)\n",
    "                #     #print(currentindex - gap)\n",
    "                #     array[currentindex], array[currentindex - gap] = array[currentindex - gap], array[currentindex]\n",
    "                #     currentindex += 1\n",
    "    return array"
   ]
  },
  {
   "source": [
    "Selection Sort 选择型排序"
   ],
   "cell_type": "markdown",
   "metadata": {}
  },
  {
   "cell_type": "code",
   "execution_count": 216,
   "metadata": {},
   "outputs": [],
   "source": [
    "#Simple Selection Sort 简单选择排序\n",
    "def SelectionSort(array):\n",
    "    for i in range(len(array)):\n",
    "        min = i\n",
    "        for j in range(i+1,len(array)):\n",
    "            if array[j] < array[min]:\n",
    "                min = j\n",
    "        array[i],array[min] = array[min],array[i]\n",
    "    return array"
   ]
  },
  {
   "cell_type": "code",
   "execution_count": 160,
   "metadata": {},
   "outputs": [],
   "source": [
    "#Heap Sort 堆排序\n",
    "import math\n",
    "def heapy(array, length, index):\n",
    "    leftchild = index * 2 + 1\n",
    "    rightchild = index * 2 +2\n",
    "    max = index\n",
    "    if index >= length:\n",
    "        return\n",
    "    if leftchild < length and array[leftchild] > array[max]:\n",
    "        max = leftchild\n",
    "    if rightchild < length and array[rightchild] > array[max]:\n",
    "        max = rightchild\n",
    "    if max != index:\n",
    "        array[index], array[max] = array[max], array[index]\n",
    "        heapy(array,length,max)\n",
    "    \n",
    "def buildHeap(array, length):\n",
    "    last_node = length -1 \n",
    "    for i in range(math.floor((last_node-1)/2),-1,-1):\n",
    "        heapy(array,length,i)\n",
    "\n",
    "def HeapSort(array):\n",
    "    print(\"Here is HeapSort\")\n",
    "    length = len(array)\n",
    "    buildHeap(array,length)\n",
    "    for i in range(length-1,0,-1):\n",
    "        array[0],array[i] = array[i],array[0]\n",
    "        heapy(array, i, 0)        \n",
    "    return array"
   ]
  },
  {
   "source": [
    "Merge Sort 归并排序"
   ],
   "cell_type": "markdown",
   "metadata": {}
  },
  {
   "cell_type": "code",
   "execution_count": 161,
   "metadata": {},
   "outputs": [],
   "source": [
    "#Merge Sort 归并排序\n",
    "def MergeSort(array):\n",
    "    return None"
   ]
  },
  {
   "source": [],
   "cell_type": "markdown",
   "metadata": {}
  },
  {
   "source": [
    "Un-comparing Sort 非比较类排序"
   ],
   "cell_type": "markdown",
   "metadata": {}
  },
  {
   "cell_type": "code",
   "execution_count": 162,
   "metadata": {},
   "outputs": [],
   "source": [
    "#Counting Sort\n",
    "def CountingSort(array):\n",
    "    return None"
   ]
  },
  {
   "cell_type": "code",
   "execution_count": 163,
   "metadata": {},
   "outputs": [],
   "source": [
    "#Bucket Sort\n",
    "def BucketSort(array):\n",
    "    return None"
   ]
  },
  {
   "cell_type": "code",
   "execution_count": 164,
   "metadata": {},
   "outputs": [],
   "source": [
    "#Radix Sort\n",
    "def RadixSort(array):\n",
    "    return None"
   ]
  },
  {
   "source": [
    "Tests"
   ],
   "cell_type": "markdown",
   "metadata": {}
  },
  {
   "cell_type": "code",
   "execution_count": 181,
   "metadata": {},
   "outputs": [],
   "source": [
    "import random\n",
    "\n",
    "def Sort(array,sorttype:SortType):\n",
    "    random.shuffle(array)\n",
    "    print(sorttype)\n",
    "    print(\"Before:\")\n",
    "    print(array)\n",
    "    switcher = {\n",
    "    SortType.BubbleSort: BubbleSort,\n",
    "    SortType.QuickSort: QuickSort,\n",
    "    SortType.InsertionSort: InsertionSort,\n",
    "    SortType.ShellSort: ShellSort,\n",
    "    SortType.SelectionSort: SelectionSort,\n",
    "    SortType.HeapSort: HeapSort,\n",
    "    }\n",
    "    \n",
    "    return switcher[sorttype](array)\n"
   ]
  },
  {
   "cell_type": "code",
   "execution_count": 182,
   "metadata": {},
   "outputs": [
    {
     "output_type": "stream",
     "name": "stdout",
     "text": [
      "SortType.BubbleSort\nBefore:\n[5, 4, 7, 8, 6, 2, 0, 9, 3, 1]\nAfter Sort:\n[0, 1, 2, 3, 4, 5, 6, 7, 8, 9]\n"
     ]
    }
   ],
   "source": [
    "array4test = [7,2,3,4,9,8,5,6,1,0]\n",
    "result = Sort(array4test, SortType.BubbleSort)\n",
    "print(\"After Sort:\")\n",
    "print(result)"
   ]
  },
  {
   "cell_type": "code",
   "execution_count": 183,
   "metadata": {},
   "outputs": [
    {
     "output_type": "stream",
     "name": "stdout",
     "text": [
      "SortType.QuickSort\nBefore:\n[6, 3, 2, 7, 5, 8, 0, 9, 1, 4]\nAfter Sort:\n[0, 1, 2, 3, 4, 5, 6, 7, 8, 9]\n"
     ]
    }
   ],
   "source": [
    "array4test = [7,2,3,4,9,8,5,6,1,0]\n",
    "result = Sort(array4test, SortType.QuickSort)\n",
    "print(\"After Sort:\")\n",
    "print(result)"
   ]
  },
  {
   "cell_type": "code",
   "execution_count": 193,
   "metadata": {},
   "outputs": [
    {
     "output_type": "stream",
     "name": "stdout",
     "text": [
      "SortType.InsertionSort\nBefore:\n[2, 9, 1, 3, 7, 0, 5, 4, 6, 8]\nAfter Sort:\n[0, 1, 2, 3, 4, 5, 6, 7, 8, 9]\n"
     ]
    }
   ],
   "source": [
    "array4test = [7,2,3,4,9,8,5,6,1,0]\n",
    "result = Sort(array4test, SortType.InsertionSort)\n",
    "print(\"After Sort:\")\n",
    "print(result)"
   ]
  },
  {
   "cell_type": "code",
   "execution_count": 215,
   "metadata": {},
   "outputs": [
    {
     "output_type": "stream",
     "name": "stdout",
     "text": [
      "SortType.ShellSort\nBefore:\n[9, 1, 8, 4, 6, 2, 0, 7, 5, 3]\nAfter Sort:\n[0, 1, 2, 3, 4, 5, 6, 7, 8, 9]\n"
     ]
    }
   ],
   "source": [
    "array4test = [7,2,3,4,9,8,5,6,1,0]\n",
    "result = Sort(array4test, SortType.ShellSort)\n",
    "print(\"After Sort:\")\n",
    "print(result)"
   ]
  },
  {
   "cell_type": "code",
   "execution_count": 217,
   "metadata": {},
   "outputs": [
    {
     "output_type": "stream",
     "name": "stdout",
     "text": [
      "SortType.SelectionSort\nBefore:\n[5, 4, 1, 6, 9, 3, 8, 0, 2, 7]\nAfter Sort:\n[0, 1, 2, 3, 4, 5, 6, 7, 8, 9]\n"
     ]
    }
   ],
   "source": [
    "array4test = [7,2,3,4,9,8,5,6,1,0]\n",
    "result = Sort(array4test, SortType.SelectionSort)\n",
    "print(\"After Sort:\")\n",
    "print(result)"
   ]
  },
  {
   "cell_type": "code",
   "execution_count": 187,
   "metadata": {},
   "outputs": [
    {
     "output_type": "stream",
     "name": "stdout",
     "text": [
      "SortType.HeapSort\nBefore:\n[8, 5, 4, 6, 3, 2, 7, 9, 1, 0]\nHere is HeapSort\nAfter Sort:\n[0, 1, 2, 3, 4, 5, 6, 7, 8, 9]\n"
     ]
    }
   ],
   "source": [
    "array4test = [7,2,3,4,9,8,5,6,1,0]\n",
    "#buildHeap(array4test,len(array4test))\n",
    "#buildHeap(array4test,len(array4test))\n",
    "result = Sort(array4test, SortType.HeapSort)\n",
    "print(\"After Sort:\")\n",
    "print(result)"
   ]
  },
  {
   "cell_type": "code",
   "execution_count": null,
   "metadata": {},
   "outputs": [],
   "source": []
  }
 ]
}