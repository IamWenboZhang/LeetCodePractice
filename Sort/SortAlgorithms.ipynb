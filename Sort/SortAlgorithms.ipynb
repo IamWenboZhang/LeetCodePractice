{
 "metadata": {
  "language_info": {
   "codemirror_mode": {
    "name": "ipython",
    "version": 3
   },
   "file_extension": ".py",
   "mimetype": "text/x-python",
   "name": "python",
   "nbconvert_exporter": "python",
   "pygments_lexer": "ipython3",
   "version": "3.7.8-final"
  },
  "orig_nbformat": 2,
  "kernelspec": {
   "name": "python3",
   "display_name": "Python 3.7.8 64-bit",
   "metadata": {
    "interpreter": {
     "hash": "57baa5815c940fdaff4d14510622de9616cae602444507ba5d0b6727c008cbd6"
    }
   }
  }
 },
 "nbformat": 4,
 "nbformat_minor": 2,
 "cells": [
  {
   "source": [
    "Sort Algorithms\n",
    "排序算法"
   ],
   "cell_type": "markdown",
   "metadata": {}
  },
  {
   "cell_type": "code",
   "execution_count": 17,
   "metadata": {},
   "outputs": [],
   "source": [
    "from enum import Enum\n",
    "class SortType(Enum):\n",
    "    BubbleSort = 1\n",
    "    QuickSort = 2\n",
    "    InsertionSort =3\n",
    "    ShellSort = 4\n",
    "    SelectionSort = 5\n",
    "    HeapSort = 6\n",
    "    MergeSort = 7\n",
    "    CountingSort = 8\n",
    "    BucketSort = 9\n",
    "    RadixSort = 10"
   ]
  },
  {
   "source": [
    "Comparing Sort \n",
    "比较类排序"
   ],
   "cell_type": "markdown",
   "metadata": {}
  },
  {
   "source": [
    "Exchange Sort 交换型排序"
   ],
   "cell_type": "markdown",
   "metadata": {}
  },
  {
   "cell_type": "code",
   "execution_count": 19,
   "metadata": {},
   "outputs": [],
   "source": [
    "#Bubble Sort 冒泡排序\n",
    "def BubbleSort(array):\n",
    "    for i in range(len(array)):\n",
    "        for j in range(i+1,len(array)):\n",
    "            if array[j] < array[i]:\n",
    "              array[i],array[j] = array[j],array[i]\n",
    "    return array"
   ]
  },
  {
   "cell_type": "code",
   "execution_count": 21,
   "metadata": {},
   "outputs": [],
   "source": [
    "#Quick Sort 快速排序\n",
    "def QuickSort(array):\n",
    "    sortpartation(array,0,len(array)-1)\n",
    "    return array\n",
    "def sortpartation(array,startindex,endindex):\n",
    "    if startindex < endindex:\n",
    "        pivot = array[startindex]\n",
    "        left = startindex\n",
    "        right = endindex\n",
    "\n",
    "        while left < right:\n",
    "            while left< right and array[right] > pivot:\n",
    "                right -= 1\n",
    "            if left < right:\n",
    "                array[left],array[right] = array[right], array[left]\n",
    "                left +=1         \n",
    "            while left < right and array[left] < pivot:\n",
    "                left += 1\n",
    "            if left < right:\n",
    "                array[left],array[right] = array[right], array[left]\n",
    "                right -= 1\n",
    "                \n",
    "        array[left] = pivot\n",
    "        sortpartation(array, startindex, left)\n",
    "        sortpartation(array, left+1, endindex)"
   ]
  },
  {
   "source": [
    "Insertion Sort 插入型排序"
   ],
   "cell_type": "markdown",
   "metadata": {}
  },
  {
   "cell_type": "code",
   "execution_count": 23,
   "metadata": {},
   "outputs": [],
   "source": [
    "#Insertion Sort\n",
    "def InsertionSort(array):\n",
    "    length = len(array)\n",
    "    for i in range(1,length):\n",
    "        preindex = i - 1\n",
    "        current = array[i]\n",
    "        while preindex >= 0 and current < array[preindex]:\n",
    "            preindex -= 1\n",
    "        for j in range(i,preindex+1,-1):\n",
    "            array[j] = array[j-1]\n",
    "        array[preindex+1] = current\n",
    "    return array"
   ]
  },
  {
   "cell_type": "code",
   "execution_count": 25,
   "metadata": {},
   "outputs": [],
   "source": [
    "#Shell Sort\n",
    "import math\n",
    "def ShellSort(array):\n",
    "    gap = len(array)-1\n",
    "    while math.floor(gap/2) > 0:\n",
    "        gap = math.floor(gap/2)        \n",
    "        for i in range(0,len(array),gap):\n",
    "            if i < len(array):\n",
    "                currentindex = i\n",
    "                current = array[i]\n",
    "                preindex = currentindex - gap\n",
    "                while preindex >= 0 and current < array[preindex]:\n",
    "                    preindex -= gap\n",
    "                for j in range(i,preindex,-gap):\n",
    "                    array[j] = array[j - gap]\n",
    "                array[preindex+gap] = current\n",
    "\n",
    "                # while currentindex < len(array) and current < array[currentindex - gap]:\n",
    "                #     #print(currentindex)\n",
    "                #     #print(currentindex - gap)\n",
    "                #     array[currentindex], array[currentindex - gap] = array[currentindex - gap], array[currentindex]\n",
    "                #     currentindex += 1\n",
    "    return array"
   ]
  },
  {
   "source": [
    "Selection Sort 选择型排序"
   ],
   "cell_type": "markdown",
   "metadata": {}
  },
  {
   "cell_type": "code",
   "execution_count": 27,
   "metadata": {},
   "outputs": [],
   "source": [
    "#Simple Selection Sort 简单选择排序\n",
    "def SelectionSort(array):\n",
    "    for i in range(len(array)):\n",
    "        min = i\n",
    "        for j in range(i+1,len(array)):\n",
    "            if array[j] < array[min]:\n",
    "                min = j\n",
    "        array[i],array[min] = array[min],array[i]\n",
    "    return array"
   ]
  },
  {
   "cell_type": "code",
   "execution_count": 28,
   "metadata": {},
   "outputs": [],
   "source": [
    "#Heap Sort 堆排序\n",
    "import math\n",
    "def heapy(array, length, index):\n",
    "    leftchild = index * 2 + 1\n",
    "    rightchild = index * 2 +2\n",
    "    max = index\n",
    "    if index >= length:\n",
    "        return\n",
    "    if leftchild < length and array[leftchild] > array[max]:\n",
    "        max = leftchild\n",
    "    if rightchild < length and array[rightchild] > array[max]:\n",
    "        max = rightchild\n",
    "    if max != index:\n",
    "        array[index], array[max] = array[max], array[index]\n",
    "        heapy(array,length,max)\n",
    "    \n",
    "def buildHeap(array, length):\n",
    "    last_node = length -1 \n",
    "    for i in range(math.floor((last_node-1)/2),-1,-1):\n",
    "        heapy(array,length,i)\n",
    "\n",
    "def HeapSort(array):\n",
    "    print(\"Here is HeapSort\")\n",
    "    length = len(array)\n",
    "    buildHeap(array,length)\n",
    "    for i in range(length-1,0,-1):\n",
    "        array[0],array[i] = array[i],array[0]\n",
    "        heapy(array, i, 0)        \n",
    "    return array"
   ]
  },
  {
   "source": [
    "Merge Sort 归并排序"
   ],
   "cell_type": "markdown",
   "metadata": {}
  },
  {
   "cell_type": "code",
   "execution_count": 67,
   "metadata": {},
   "outputs": [],
   "source": [
    "#Merge Sort 归并排序\n",
    "def Merge(array,start,mid,end):\n",
    "    #According start mid end split array to 2 childs: Left and Right\n",
    "    left_length = mid - start + 1\n",
    "    right_length = end - mid\n",
    "    Left = array[start:mid+1]\n",
    "    Right = array[mid+1:end+1]\n",
    "    print(\"Left: \")\n",
    "    print(Left)\n",
    "    print(\"Right: \")\n",
    "    print(Right)\n",
    "    array_index = start\n",
    "    i = j = 0\n",
    "    #Traverse both Left and Right\n",
    "    while i < left_length and j <right_length:\n",
    "        #Get the min value of both left item and right item, add min value to result array\n",
    "        if Left[i] < Right[j]:\n",
    "            array[array_index] = Left[i]\n",
    "            i+=1\n",
    "        else:\n",
    "            array[array_index] = Right[j]\n",
    "            j+=1\n",
    "        array_index += 1\n",
    "    #If Left still exisit items after traverse, \n",
    "    #that means the size of Right is less than the size of Left\n",
    "    #Add all item in Left to  result array\n",
    "    while i < left_length:\n",
    "        array[array_index] = Left[i]\n",
    "        i+=1\n",
    "        array_index+=1\n",
    "    #If Right still exisit items after traverse, \n",
    "    #that means the size of Left is less than the size of Right\n",
    "    #Add all item in Right to  result array\n",
    "    while j < right_length:\n",
    "        array[array_index] = Right[j]\n",
    "        j+=1\n",
    "        array_index += 1\n",
    "\n",
    "def MergeSort_Helper(array,left,right):\n",
    "    mid = int((right-left)/2)+left\n",
    "    if left == right:\n",
    "        return \n",
    "    print(\"Left: \"+str(left))\n",
    "    print(\"Right:\"+str(right))\n",
    "    MergeSort_Helper(array,left,mid)\n",
    "    MergeSort_Helper(array,mid+1,right)\n",
    "    Merge(array,left,mid,right)\n",
    "\n",
    "def MergeSort(array):\n",
    "    left = 0\n",
    "    right = len(array) -1\n",
    "    MergeSort_Helper(array,left,right)\n",
    "    return array"
   ]
  },
  {
   "source": [],
   "cell_type": "markdown",
   "metadata": {}
  },
  {
   "source": [
    "Un-comparing Sort 非比较类排序"
   ],
   "cell_type": "markdown",
   "metadata": {}
  },
  {
   "cell_type": "code",
   "execution_count": 30,
   "metadata": {},
   "outputs": [],
   "source": [
    "#Counting Sort\n",
    "def CountingSort(array):\n",
    "    return None"
   ]
  },
  {
   "cell_type": "code",
   "execution_count": 65,
   "metadata": {},
   "outputs": [],
   "source": [
    "#Bucket Sort\n",
    "def BucketSort(array,bucketsize=None):\n",
    "    #Find max value and min value in array\n",
    "    Max,Min = None,None\n",
    "    for num in array:\n",
    "        if Max == None and Min == None:\n",
    "            Max = num\n",
    "            Min = num\n",
    "        elif num > Max:\n",
    "            Max = num\n",
    "        elif num < Min:\n",
    "            Min = num \n",
    "    print(\"Max: \" + str(Max))\n",
    "    print(\"Min: \" + str(Min))\n",
    "    #According bucket size create a bucket list\n",
    "    if bucketsize == None:\n",
    "        bucketsize = 5\n",
    "    buckets = [[] for i in range(bucketsize)]\n",
    "    #Build map realationship with array item and bucket\n",
    "    for num in array:\n",
    "        pos = int((num - Min)/((Max-Min+1)/bucketsize))\n",
    "        print(\"{n} assigned to bucket[{pos}]\".format(n=num,pos=pos))\n",
    "        buckets[pos].append(num)\n",
    "    #Sort all bucket\n",
    "    print(buckets)\n",
    "    res = []\n",
    "    for bucket in buckets:\n",
    "        bucket = BubbleSort(bucket)\n",
    "        res.extend(bucket)\n",
    "    #Merge all bucket\n",
    "    return res"
   ]
  },
  {
   "cell_type": "code",
   "execution_count": 54,
   "metadata": {},
   "outputs": [],
   "source": [
    "#Radix Sort\n",
    "def RadixSort(array):\n",
    "    return None"
   ]
  },
  {
   "source": [
    "Tests"
   ],
   "cell_type": "markdown",
   "metadata": {}
  },
  {
   "cell_type": "code",
   "execution_count": 47,
   "metadata": {},
   "outputs": [],
   "source": [
    "import random\n",
    "\n",
    "def Sort(array,sorttype:SortType):\n",
    "    random.shuffle(array)\n",
    "    print(sorttype)\n",
    "    print(\"Before:\")\n",
    "    print(array)\n",
    "    switcher = {\n",
    "    SortType.BubbleSort: BubbleSort,\n",
    "    SortType.QuickSort: QuickSort,\n",
    "    SortType.InsertionSort: InsertionSort,\n",
    "    SortType.ShellSort: ShellSort,\n",
    "    SortType.SelectionSort: SelectionSort,\n",
    "    SortType.HeapSort: HeapSort,\n",
    "    SortType.MergeSort: MergeSort,\n",
    "    SortType.BucketSort: BucketSort,\n",
    "    }\n",
    "    \n",
    "    return switcher[sorttype](array)\n"
   ]
  },
  {
   "cell_type": "code",
   "execution_count": 34,
   "metadata": {},
   "outputs": [
    {
     "output_type": "stream",
     "name": "stdout",
     "text": [
      "SortType.BubbleSort\nBefore:\n[8, 0, 7, 2, 3, 9, 4, 6, 1, 5]\nAfter Sort:\n[0, 1, 2, 3, 4, 5, 6, 7, 8, 9]\n"
     ]
    }
   ],
   "source": [
    "array4test = [7,2,3,4,9,8,5,6,1,0]\n",
    "result = Sort(array4test, SortType.BubbleSort)\n",
    "print(\"After Sort:\")\n",
    "print(result)"
   ]
  },
  {
   "cell_type": "code",
   "execution_count": 35,
   "metadata": {},
   "outputs": [
    {
     "output_type": "stream",
     "name": "stdout",
     "text": [
      "SortType.QuickSort\nBefore:\n[1, 8, 7, 3, 4, 9, 5, 6, 2, 0]\nAfter Sort:\n[0, 1, 2, 3, 4, 5, 6, 7, 8, 9]\n"
     ]
    }
   ],
   "source": [
    "array4test = [7,2,3,4,9,8,5,6,1,0]\n",
    "result = Sort(array4test, SortType.QuickSort)\n",
    "print(\"After Sort:\")\n",
    "print(result)"
   ]
  },
  {
   "cell_type": "code",
   "execution_count": 36,
   "metadata": {},
   "outputs": [
    {
     "output_type": "stream",
     "name": "stdout",
     "text": [
      "SortType.InsertionSort\nBefore:\n[8, 2, 6, 1, 9, 5, 0, 3, 7, 4]\nAfter Sort:\n[0, 1, 2, 3, 4, 5, 6, 7, 8, 9]\n"
     ]
    }
   ],
   "source": [
    "array4test = [7,2,3,4,9,8,5,6,1,0]\n",
    "result = Sort(array4test, SortType.InsertionSort)\n",
    "print(\"After Sort:\")\n",
    "print(result)"
   ]
  },
  {
   "cell_type": "code",
   "execution_count": 37,
   "metadata": {},
   "outputs": [
    {
     "output_type": "stream",
     "name": "stdout",
     "text": [
      "SortType.ShellSort\nBefore:\n[2, 7, 8, 6, 5, 4, 3, 1, 9, 0]\nAfter Sort:\n[0, 1, 2, 3, 4, 5, 6, 7, 8, 9]\n"
     ]
    }
   ],
   "source": [
    "array4test = [7,2,3,4,9,8,5,6,1,0]\n",
    "result = Sort(array4test, SortType.ShellSort)\n",
    "print(\"After Sort:\")\n",
    "print(result)"
   ]
  },
  {
   "cell_type": "code",
   "execution_count": 38,
   "metadata": {},
   "outputs": [
    {
     "output_type": "stream",
     "name": "stdout",
     "text": [
      "SortType.SelectionSort\nBefore:\n[5, 1, 9, 8, 4, 2, 7, 6, 0, 3]\nAfter Sort:\n[0, 1, 2, 3, 4, 5, 6, 7, 8, 9]\n"
     ]
    }
   ],
   "source": [
    "array4test = [7,2,3,4,9,8,5,6,1,0]\n",
    "result = Sort(array4test, SortType.SelectionSort)\n",
    "print(\"After Sort:\")\n",
    "print(result)"
   ]
  },
  {
   "cell_type": "code",
   "execution_count": 39,
   "metadata": {},
   "outputs": [
    {
     "output_type": "stream",
     "name": "stdout",
     "text": [
      "SortType.HeapSort\nBefore:\n[3, 6, 2, 1, 9, 4, 0, 7, 8, 5]\nHere is HeapSort\nAfter Sort:\n[0, 1, 2, 3, 4, 5, 6, 7, 8, 9]\n"
     ]
    }
   ],
   "source": [
    "array4test = [7,2,3,4,9,8,5,6,1,0]\n",
    "result = Sort(array4test, SortType.HeapSort)\n",
    "print(\"After Sort:\")\n",
    "print(result)"
   ]
  },
  {
   "cell_type": "code",
   "execution_count": 68,
   "metadata": {},
   "outputs": [
    {
     "output_type": "stream",
     "name": "stdout",
     "text": [
      "SortType.MergeSort\nBefore:\n[9, 5, 3, 2, 0, 6, 4, 8, 7, 1]\nLeft: 0\nRight:9\nLeft: 0\nRight:4\nLeft: 0\nRight:2\nLeft: 0\nRight:1\nLeft: \n[9]\nRight: \n[5]\nLeft: \n[5, 9]\nRight: \n[3]\nLeft: 3\nRight:4\nLeft: \n[2]\nRight: \n[0]\nLeft: \n[3, 5, 9]\nRight: \n[0, 2]\nLeft: 5\nRight:9\nLeft: 5\nRight:7\nLeft: 5\nRight:6\nLeft: \n[6]\nRight: \n[4]\nLeft: \n[4, 6]\nRight: \n[8]\nLeft: 8\nRight:9\nLeft: \n[7]\nRight: \n[1]\nLeft: \n[4, 6, 8]\nRight: \n[1, 7]\nLeft: \n[0, 2, 3, 5, 9]\nRight: \n[1, 4, 6, 7, 8]\nAfter Sort:\n[0, 1, 2, 3, 4, 5, 6, 7, 8, 9]\n"
     ]
    }
   ],
   "source": [
    "array4test = [7,2,3,4,9,8,5,6,1,0]\n",
    "result = Sort(array4test, SortType.MergeSort)\n",
    "print(\"After Sort:\")\n",
    "print(result)"
   ]
  },
  {
   "cell_type": "code",
   "execution_count": 66,
   "metadata": {},
   "outputs": [
    {
     "output_type": "stream",
     "name": "stdout",
     "text": [
      "SortType.BucketSort\nBefore:\n[9, 0, 2, 3, 7, 5, 6, 8, 4, 1]\nMax: 9\nMin: 0\n9 assigned to bucket[4]\n0 assigned to bucket[0]\n2 assigned to bucket[1]\n3 assigned to bucket[1]\n7 assigned to bucket[3]\n5 assigned to bucket[2]\n6 assigned to bucket[3]\n8 assigned to bucket[4]\n4 assigned to bucket[2]\n1 assigned to bucket[0]\n[[0, 1], [2, 3], [5, 4], [7, 6], [9, 8]]\nAfter Sort:\n[0, 1, 2, 3, 4, 5, 6, 7, 8, 9]\n"
     ]
    }
   ],
   "source": [
    "array4test = [7,2,3,4,9,8,5,6,1,0]\n",
    "result = Sort(array4test, SortType.BucketSort)\n",
    "print(\"After Sort:\")\n",
    "print(result)"
   ]
  },
  {
   "source": [
    "# TopK"
   ],
   "cell_type": "markdown",
   "metadata": {}
  },
  {
   "cell_type": "code",
   "execution_count": 41,
   "metadata": {},
   "outputs": [],
   "source": [
    "import math\n",
    "class Solution:\n",
    "    def __init__(self,arr):\n",
    "        self.d = self.build_dict(arr)\n",
    "        print(self.d)\n",
    "\n",
    "    def build_dict(self,arr):\n",
    "        d = dict()\n",
    "        for num in arr:\n",
    "            if num in d.keys():\n",
    "                d[num] += 1\n",
    "            else:\n",
    "                d[num] = 1\n",
    "\n",
    "        return list(d.items())\n",
    "\n",
    "        #get top K\n",
    "    def TopK(self,K):\n",
    "        #建一个K大小的小根堆\n",
    "        heap = self.build_heap(K,self.d)\n",
    "        print(heap)\n",
    "        #后面的元素依次跟堆顶比较 如果比堆顶大 把堆顶换位该元素重新堆化\n",
    "        if K < len(self.d):\n",
    "            for item in self.d[K:]:\n",
    "                print(\"Item after K: \" + str(item))\n",
    "                if item[1] > heap[0][1]:\n",
    "                    heap[0] = item\n",
    "                    print(\"New Heap: \" + str(heap))\n",
    "                    self.heapy(0,heap,K)\n",
    "        return heap\n",
    "\n",
    "    def build_heap(self,K,d):\n",
    "        last_parent = math.floor((K-1)/2)\n",
    "        print(\"last parent: \" +str(last_parent))\n",
    "        for i in range(last_parent,-1,-1):\n",
    "            self.heapy(i,d,K)\n",
    "        return d[:K]\n",
    "\n",
    "    def heapy(self,cur_index,d,K):\n",
    "        left = cur_index * 2 +1\n",
    "        right = cur_index*2+2\n",
    "        min_index = cur_index\n",
    "        if left < len(d) and d[left][1] < d[min_index][1]:\n",
    "            print(\"left child {num} count: {value}\".format(num=d[left][0],value = d[left][1]))\n",
    "            min_index = left\n",
    "        if right < len(d) and d[right][1] < d[min_index][1]:\n",
    "            print(\"right child {num} count: {value}\".format(num=d[right][0],value = d[right][1]))\n",
    "            min_index = right\n",
    "        if min_index != cur_index:\n",
    "            d[min_index],d[cur_index] = d[cur_index], d[min_index]\n",
    "            print(\"Exchanged {num} count: {value}\".format(num=d[min_index][0],value = d[min_index][1]))\n",
    "            print(d)\n",
    "            self.heapy(min_index,d,K)\n"
   ]
  },
  {
   "cell_type": "code",
   "execution_count": 42,
   "metadata": {},
   "outputs": [
    {
     "output_type": "stream",
     "name": "stdout",
     "text": [
      "[(1, 1), (2, 4), (3, 3), (4, 2), (5, 9), (6, 5), (8, 12)]\n",
      "last parent: 1\n",
      "left child 4 count: 2\n",
      "Exchanged 2 count: 4\n",
      "[(1, 1), (4, 2), (3, 3), (2, 4), (5, 9), (6, 5), (8, 12)]\n",
      "[(1, 1), (4, 2), (3, 3), (2, 4)]\n",
      "Item after K: (5, 9)\n",
      "New Heap: [(5, 9), (4, 2), (3, 3), (2, 4)]\n",
      "left child 4 count: 2\n",
      "Exchanged 5 count: 9\n",
      "[(4, 2), (5, 9), (3, 3), (2, 4)]\n",
      "left child 2 count: 4\n",
      "Exchanged 5 count: 9\n",
      "[(4, 2), (2, 4), (3, 3), (5, 9)]\n",
      "Item after K: (6, 5)\n",
      "New Heap: [(6, 5), (2, 4), (3, 3), (5, 9)]\n",
      "left child 2 count: 4\n",
      "right child 3 count: 3\n",
      "Exchanged 6 count: 5\n",
      "[(3, 3), (2, 4), (6, 5), (5, 9)]\n",
      "Item after K: (8, 12)\n",
      "New Heap: [(8, 12), (2, 4), (6, 5), (5, 9)]\n",
      "left child 2 count: 4\n",
      "Exchanged 8 count: 12\n",
      "[(2, 4), (8, 12), (6, 5), (5, 9)]\n",
      "left child 5 count: 9\n",
      "Exchanged 8 count: 12\n",
      "[(2, 4), (5, 9), (6, 5), (8, 12)]\n"
     ]
    }
   ],
   "source": [
    "arr = [1,2,2,3,4,5,6,6,6,6,6,8,3,4,2,5,5,5,5,5,5,5,5,2,3,8,8,8,8,8,8,8,8,8,8,8]\n",
    "s = Solution(arr)\n",
    "heap = s.TopK(4)"
   ]
  },
  {
   "cell_type": "code",
   "execution_count": null,
   "metadata": {},
   "outputs": [],
   "source": []
  },
  {
   "cell_type": "code",
   "execution_count": null,
   "metadata": {},
   "outputs": [],
   "source": []
  }
 ]
}