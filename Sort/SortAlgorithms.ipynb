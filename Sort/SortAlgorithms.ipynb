{
 "metadata": {
  "language_info": {
   "codemirror_mode": {
    "name": "ipython",
    "version": 3
   },
   "file_extension": ".py",
   "mimetype": "text/x-python",
   "name": "python",
   "nbconvert_exporter": "python",
   "pygments_lexer": "ipython3",
   "version": "3.7.5-final"
  },
  "orig_nbformat": 2,
  "kernelspec": {
   "name": "python3",
   "display_name": "Python 3.7.5 64-bit",
   "metadata": {
    "interpreter": {
     "hash": "57baa5815c940fdaff4d14510622de9616cae602444507ba5d0b6727c008cbd6"
    }
   }
  }
 },
 "nbformat": 4,
 "nbformat_minor": 2,
 "cells": [
  {
   "source": [
    "Sort Algorithms\n",
    "排序算法"
   ],
   "cell_type": "markdown",
   "metadata": {}
  },
  {
   "cell_type": "code",
   "execution_count": 14,
   "metadata": {},
   "outputs": [],
   "source": [
    "from enum import Enum\n",
    "class SortType(Enum):\n",
    "    BubbleSort = 1\n",
    "    QuickSort = 2\n",
    "    InsertionSort =3\n",
    "    ShellSort = 4\n",
    "    SelectionSort = 5\n",
    "    HeapSort = 6\n",
    "    MergeSort = 7\n",
    "    CountingSort = 8\n",
    "    BucketSort = 9\n",
    "    RadixSort = 10"
   ]
  },
  {
   "source": [
    "Comparing Sort \n",
    "比较类排序"
   ],
   "cell_type": "markdown",
   "metadata": {}
  },
  {
   "source": [
    "Exchange Sort 交换型排序"
   ],
   "cell_type": "markdown",
   "metadata": {}
  },
  {
   "cell_type": "code",
   "execution_count": 44,
   "metadata": {},
   "outputs": [],
   "source": [
    "#Bubble Sort 冒泡排序\n",
    "def BubbleSort(array):\n",
    "    for i in range(len(array)):\n",
    "        for j in range(i+1,len(array)):\n",
    "            if array[j] < array[i]:\n",
    "              array[i],array[j] = array[j],array[i]\n",
    "    return array"
   ]
  },
  {
   "cell_type": "code",
   "execution_count": 53,
   "metadata": {},
   "outputs": [],
   "source": [
    "#Quick Sort 快速排序\n",
    "def QuickSort(array):\n",
    "    sortpartation(array,0,len(array)-1)\n",
    "    return array\n",
    "def sortpartation(array,startindex,endindex):\n",
    "    if startindex < endindex:\n",
    "        pivot = array[startindex]\n",
    "        left = startindex\n",
    "        right = endindex\n",
    "\n",
    "        while left < right:\n",
    "            while left< right and array[right] > pivot:\n",
    "                right -= 1\n",
    "            if left < right:\n",
    "                array[left],array[right] = array[right], array[left]\n",
    "                left +=1         \n",
    "            while left < right and array[left] < pivot:\n",
    "                left += 1\n",
    "            if left < right:\n",
    "                array[left],array[right] = array[right], array[left]\n",
    "                right -= 1\n",
    "                \n",
    "        array[left] = pivot\n",
    "        sortpartation(array, startindex, left)\n",
    "        sortpartation(array, left+1, endindex)"
   ]
  },
  {
   "source": [
    "Insertion Sort 插入型排序"
   ],
   "cell_type": "markdown",
   "metadata": {}
  },
  {
   "cell_type": "code",
   "execution_count": 55,
   "metadata": {},
   "outputs": [],
   "source": [
    "#Insertion Sort\n",
    "def InsertionSort(array):\n",
    "    length = len(array)\n",
    "    for i in range(1,length):\n",
    "        preindex = i - 1\n",
    "        current = array[i]\n",
    "        while preindex >= 0 and current < array[preindex]:\n",
    "            preindex -= 1\n",
    "        array[preindex+1] = current\n",
    "    return array"
   ]
  },
  {
   "cell_type": "code",
   "execution_count": 70,
   "metadata": {},
   "outputs": [],
   "source": [
    "#Shell Sort\n",
    "import math\n",
    "def ShellSort(array):\n",
    "    gap = len(array)\n",
    "    while math.floor(gap/2) > 0:\n",
    "        gap = math.floor(gap/2)\n",
    "        for i in range(gap,len(array),gap):\n",
    "            currentindex = i\n",
    "            current = array[i]\n",
    "            while currentindex - gap >= 0 and current < array[currentindex - gap]:\n",
    "                array[currentindex], array[currentindex - gap] = array[currentindex - gap], array[currentindex]\n",
    "                currentindex += 1\n",
    "    return array"
   ]
  },
  {
   "source": [
    "Selection Sort 选择型排序"
   ],
   "cell_type": "markdown",
   "metadata": {}
  },
  {
   "cell_type": "code",
   "execution_count": 19,
   "metadata": {},
   "outputs": [],
   "source": [
    "#Simple Selection Sort 简单选择排序\n",
    "def SelectionSort(array):\n",
    "    return None"
   ]
  },
  {
   "cell_type": "code",
   "execution_count": 20,
   "metadata": {},
   "outputs": [],
   "source": [
    "#Heap Sort 堆排序\n",
    "def HeapSort(array):\n",
    "    return None"
   ]
  },
  {
   "source": [
    "Merge Sort 归并排序"
   ],
   "cell_type": "markdown",
   "metadata": {}
  },
  {
   "cell_type": "code",
   "execution_count": 21,
   "metadata": {},
   "outputs": [],
   "source": [
    "#Merge Sort 归并排序\n",
    "def MergeSort(array):\n",
    "    return None"
   ]
  },
  {
   "source": [],
   "cell_type": "markdown",
   "metadata": {}
  },
  {
   "source": [
    "Un-comparing Sort 非比较类排序"
   ],
   "cell_type": "markdown",
   "metadata": {}
  },
  {
   "cell_type": "code",
   "execution_count": 22,
   "metadata": {},
   "outputs": [],
   "source": [
    "#Counting Sort\n",
    "def CountingSort(array):\n",
    "    return None"
   ]
  },
  {
   "cell_type": "code",
   "execution_count": 23,
   "metadata": {},
   "outputs": [],
   "source": [
    "#Bucket Sort\n",
    "def BucketSort(array):\n",
    "    return None"
   ]
  },
  {
   "cell_type": "code",
   "execution_count": 24,
   "metadata": {},
   "outputs": [],
   "source": [
    "#Radix Sort\n",
    "def RadixSort(array):\n",
    "    return None"
   ]
  },
  {
   "source": [
    "Tests"
   ],
   "cell_type": "markdown",
   "metadata": {}
  },
  {
   "cell_type": "code",
   "execution_count": 57,
   "metadata": {},
   "outputs": [],
   "source": [
    "import random\n",
    "\n",
    "def Sort(array,sorttype:SortType):\n",
    "    random.shuffle(array)\n",
    "    print(\"Before:\")\n",
    "    print(array)\n",
    "    switcher = {\n",
    "    SortType.BubbleSort:BubbleSort(array),\n",
    "    SortType.QuickSort:QuickSort(array),\n",
    "    SortType.InsertionSort:InsertionSort(array),\n",
    "    SortType.ShellSort:ShellSort(array),\n",
    "    SortType.BubbleSort:BubbleSort(array),\n",
    "    }\n",
    "    return switcher.get(sorttype,\"Invaild sort type!\")\n"
   ]
  },
  {
   "cell_type": "code",
   "execution_count": 58,
   "metadata": {},
   "outputs": [
    {
     "output_type": "stream",
     "name": "stdout",
     "text": [
      "Before:\n[6, 1, 4, 5, 2, 9, 8, 3, 7, 0]\nAfter Sort:\n[0, 1, 2, 3, 4, 5, 6, 7, 8, 9]\n"
     ]
    }
   ],
   "source": [
    "array4test = [7,2,3,4,9,8,5,6,1,0]\n",
    "result = Sort(array4test, SortType.BubbleSort)\n",
    "print(\"After Sort:\")\n",
    "print(result)"
   ]
  },
  {
   "cell_type": "code",
   "execution_count": 59,
   "metadata": {},
   "outputs": [
    {
     "output_type": "stream",
     "name": "stdout",
     "text": [
      "Before:\n[7, 0, 3, 1, 5, 2, 6, 8, 9, 4]\nAfter Sort:\n[0, 1, 2, 3, 4, 5, 6, 7, 8, 9]\n"
     ]
    }
   ],
   "source": [
    "array4test = [7,2,3,4,9,8,5,6,1,0]\n",
    "result = Sort(array4test, SortType.QuickSort)\n",
    "print(\"After Sort:\")\n",
    "print(result)"
   ]
  },
  {
   "cell_type": "code",
   "execution_count": 63,
   "metadata": {},
   "outputs": [
    {
     "output_type": "stream",
     "name": "stdout",
     "text": [
      "Before:\n[2, 6, 1, 9, 8, 7, 0, 3, 4, 5]\nAfter Sort:\n[0, 1, 2, 3, 4, 5, 6, 7, 8, 9]\n"
     ]
    }
   ],
   "source": [
    "array4test = [7,2,3,4,9,8,5,6,1,0]\n",
    "result = Sort(array4test, SortType.InsertionSort)\n",
    "print(\"After Sort:\")\n",
    "print(result)"
   ]
  },
  {
   "cell_type": "code",
   "execution_count": 71,
   "metadata": {},
   "outputs": [
    {
     "output_type": "stream",
     "name": "stdout",
     "text": [
      "Before:\n[2, 4, 1, 8, 5, 7, 6, 9, 3, 0]\nAfter Sort:\n[0, 1, 2, 3, 4, 5, 6, 7, 8, 9]\n"
     ]
    }
   ],
   "source": [
    "array4test = [7,2,3,4,9,8,5,6,1,0]\n",
    "result = Sort(array4test, SortType.ShellSort)\n",
    "print(\"After Sort:\")\n",
    "print(result)"
   ]
  },
  {
   "cell_type": "code",
   "execution_count": null,
   "metadata": {},
   "outputs": [],
   "source": []
  }
 ]
}