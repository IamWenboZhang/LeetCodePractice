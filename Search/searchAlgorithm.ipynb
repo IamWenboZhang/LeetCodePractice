{
 "metadata": {
  "language_info": {
   "codemirror_mode": {
    "name": "ipython",
    "version": 3
   },
   "file_extension": ".py",
   "mimetype": "text/x-python",
   "name": "python",
   "nbconvert_exporter": "python",
   "pygments_lexer": "ipython3",
   "version": "3.8.3-final"
  },
  "orig_nbformat": 2,
  "kernelspec": {
   "name": "python3",
   "display_name": "Python 3",
   "language": "python"
  }
 },
 "nbformat": 4,
 "nbformat_minor": 2,
 "cells": [
  {
   "source": [
    "# 287. Find the Duplicate Number\n",
    "Medium\n",
    "\n",
    "Given an array of integers nums containing n + 1 integers where each integer is in the range [1, n] inclusive.\n",
    "\n",
    "There is only one duplicate number in nums, return this duplicate number.\n",
    "\n",
    "Follow-ups:\n",
    "\n",
    "How can we prove that at least one duplicate number must exist in nums? \n",
    "Can you solve the problem without modifying the array nums?\n",
    "Can you solve the problem using only constant, O(1) extra space?\n",
    "Can you solve the problem with runtime complexity less than O(n2)?\n",
    " \n",
    "\n",
    "Example 1:\n",
    "\n",
    "Input: nums = [1,3,4,2,2]\n",
    "Output: 2\n",
    "Example 2:\n",
    "\n",
    "Input: nums = [3,1,3,4,2]\n",
    "Output: 3\n",
    "Example 3:\n",
    "\n",
    "Input: nums = [1,1]\n",
    "Output: 1\n",
    "Example 4:\n",
    "\n",
    "Input: nums = [1,1,2]\n",
    "Output: 1\n",
    " "
   ],
   "cell_type": "markdown",
   "metadata": {}
  },
  {
   "cell_type": "code",
   "execution_count": 1,
   "metadata": {},
   "outputs": [],
   "source": [
    "def FindDuplicateNum(nums):\n",
    "    #求出中间值\n",
    "\n",
    "    #设定搜索边界\n",
    "    left = 0\n",
    "    right = len(nums)-1\n",
    "    #遍历计数\n",
    "    #统计比中间值小的数的个数\n",
    "    #统计跟中间值相等的个数\n",
    "    #如果跟中间值相等的个数大于0 中间值重复\n",
    "    #如果比中间值小的个数超过了数组的一半，重复数在起始值与中间值之间， 调整边界将搜索区域放在left和中间值之间\n",
    "    #如果比中间值小的个数少于数组的一半，重复数在中间值与right之间， 调整边界将搜索区域放在中间值和right之间\n",
    "    "
   ]
  },
  {
   "cell_type": "code",
   "execution_count": null,
   "metadata": {},
   "outputs": [],
   "source": []
  }
 ]
}