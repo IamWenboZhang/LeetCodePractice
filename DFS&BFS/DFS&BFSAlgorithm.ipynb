{
 "metadata": {
  "language_info": {
   "codemirror_mode": {
    "name": "ipython",
    "version": 3
   },
   "file_extension": ".py",
   "mimetype": "text/x-python",
   "name": "python",
   "nbconvert_exporter": "python",
   "pygments_lexer": "ipython3",
   "version": "3.8.6-final"
  },
  "orig_nbformat": 2,
  "kernelspec": {
   "name": "python3",
   "display_name": "Python 3.8.6 64-bit",
   "metadata": {
    "interpreter": {
     "hash": "edca71f842add738862a49ca9d3c53eaf5c231d4127b622dd5cccdeff42b5682"
    }
   }
  }
 },
 "nbformat": 4,
 "nbformat_minor": 2,
 "cells": [
  {
   "source": [
    "# 200. Number of Islands\n",
    "\n",
    "Given an m x n 2d grid map of '1's (land) and '0's (water), return the number of islands.\n",
    "\n",
    "An island is surrounded by water and is formed by connecting adjacent lands horizontally or vertically. You may assume all four edges of the grid are all surrounded by water.\n",
    "\n",
    " \n",
    "\n",
    "Example 1:\n",
    "\n",
    "Input: grid = [\n",
    "  [\"1\",\"1\",\"1\",\"1\",\"0\"],\n",
    "  [\"1\",\"1\",\"0\",\"1\",\"0\"],\n",
    "  [\"1\",\"1\",\"0\",\"0\",\"0\"],\n",
    "  [\"0\",\"0\",\"0\",\"0\",\"0\"]\n",
    "]\n",
    "Output: 1\n",
    "\n",
    "\n",
    "Example 2:\n",
    "\n",
    "Input: grid = [\n",
    "  [\"1\",\"1\",\"0\",\"0\",\"0\"],\n",
    "  [\"1\",\"1\",\"0\",\"0\",\"0\"],\n",
    "  [\"0\",\"0\",\"1\",\"0\",\"0\"],\n",
    "  [\"0\",\"0\",\"0\",\"1\",\"1\"]\n",
    "]\n",
    "Output: 3\n",
    " \n",
    "\n",
    "Constraints:\n",
    "\n",
    "m == grid.length\n",
    "\n",
    "n == grid[i].length\n",
    "\n",
    "1 <= m, n <= 300\n",
    "\n",
    "grid[i][j] is '0' or '1'."
   ],
   "cell_type": "markdown",
   "metadata": {}
  },
  {
   "cell_type": "code",
   "execution_count": 4,
   "metadata": {},
   "outputs": [],
   "source": [
    "import queue\n",
    "\n",
    "def BFS_Helper(grid,x,y):\n",
    "    #Use Queue:\n",
    "    q  = queue.Queue()\n",
    "    height = len(grid)\n",
    "    width = len(grid[0])\n",
    "    if x < 0 or y < 0 or x >= width or y >= height:\n",
    "        return\n",
    "    # while queue is not empty\n",
    "    q.put_nowait((grid[y][x],x,y))\n",
    "    while not q.empty():\n",
    "        # pop queue, get current position\n",
    "        #print(q.get_nowait())\n",
    "        cur_value,cur_x,cur_y = q.get_nowait()\n",
    "        \n",
    "        # if current position is sea or current position beyond matrix margin return\n",
    "        # if current position is land mark this postion as *\n",
    "        if cur_value == \"1\":\n",
    "            grid[cur_y][cur_x] = \"*\"\n",
    "            # Get left,down,right,up neighbors and  push them to Queue\n",
    "            left_x = cur_x-1\n",
    "            left_y = cur_y\n",
    "            if left_x >= 0 and left_y >= 0 and left_x < width and left_y < height:\n",
    "                left_value = grid[left_y][left_x]\n",
    "                if left_value == \"1\":\n",
    "                    q.put_nowait((left_value,left_x,left_y))\n",
    "            \n",
    "            right_x = cur_x+1\n",
    "            right_y = cur_y\n",
    "            if right_x >= 0 and right_y >= 0 and right_x < width and right_y < height:\n",
    "                right_value = grid[right_y][right_x]\n",
    "                if right_value == \"1\":\n",
    "                    q.put_nowait((right_value,right_x,right_y))\n",
    "            \n",
    "            down_x = cur_x\n",
    "            down_y = cur_y+1\n",
    "            if down_x >= 0 and down_y >= 0 and down_x < width and down_y < height:\n",
    "                down_value = grid[down_y][down_x]\n",
    "                \n",
    "                if down_value == \"1\":\n",
    "                    q.put_nowait((down_value,down_x,down_y))\n",
    "            \n",
    "            up_x = cur_x\n",
    "            up_y = cur_y -1\n",
    "            if up_x >= 0 and up_y >= 0 and up_x < width and up_y < height:\n",
    "                up_value = grid[up_y][up_x]\n",
    "                if up_value == \"1\":\n",
    "                    q.put_nowait((up_value,up_x,up_y))\n",
    "            \n",
    "\n",
    "def Islands_BFS(grid):\n",
    "    height = len(grid)\n",
    "    width = len(grid[0])\n",
    "    island_count = 0\n",
    "    #Traverse the matrix\n",
    "    for x in range(width):\n",
    "        for y in range(height):\n",
    "            current = grid[y][x]\n",
    "            #if current position is land \n",
    "            #Island count add 1 \n",
    "            if current == \"1\":\n",
    "                island_count += 1\n",
    "                #Find all neighbor lands and mark them as *, means they belong to same Island\n",
    "                BFS_Helper(grid,x,y)\n",
    "    print(grid)\n",
    "    return island_count"
   ]
  },
  {
   "source": [
    "BFS 寻路\n",
    "使用队列\n",
    "队列出队 取出一个点\n",
    "对该点的各个方向同时寻找，把各个点依次入队\n",
    "各个方向遍历完之后，从队列去除下一个点继续循环直至队列为空"
   ],
   "cell_type": "markdown",
   "metadata": {}
  },
  {
   "cell_type": "code",
   "execution_count": 6,
   "metadata": {},
   "outputs": [
    {
     "output_type": "stream",
     "name": "stdout",
     "text": [
      "[['*', '*', '0', '0', '0'], ['*', '*', '0', '0', '0'], ['0', '0', '*', '0', '0'], ['0', '0', '0', '*', '*']]\n3\n"
     ]
    }
   ],
   "source": [
    "# grid = [\n",
    "#   [\"1\",\"1\",\"1\",\"1\",\"0\"],\n",
    "#   [\"1\",\"1\",\"0\",\"1\",\"0\"],\n",
    "#   [\"1\",\"1\",\"0\",\"0\",\"0\"],\n",
    "#   [\"0\",\"0\",\"0\",\"0\",\"0\"]\n",
    "# ]\n",
    "\n",
    "grid = [\n",
    "  [\"1\",\"1\",\"0\",\"0\",\"0\"],\n",
    "  [\"1\",\"1\",\"0\",\"0\",\"0\"],\n",
    "  [\"0\",\"0\",\"1\",\"0\",\"0\"],\n",
    "  [\"0\",\"0\",\"0\",\"1\",\"1\"]\n",
    "]\n",
    "\n",
    "count = Islands_BFS(grid)\n",
    "print(count)"
   ]
  },
  {
   "source": [
    "DFS 使用递归\n",
    "沿着一个方向一直往下走 找不到点后返回向另一个点走 走到头后继续换方向 直至所有路径走完之后 返回"
   ],
   "cell_type": "markdown",
   "metadata": {}
  },
  {
   "cell_type": "code",
   "execution_count": 52,
   "metadata": {},
   "outputs": [],
   "source": [
    "def DFS_Helper(grid,x,y):\n",
    "    #4 directions: left,down,right,up\n",
    "    #if current position is sea or current position beyond matrix margin return\n",
    "    height = len(grid)\n",
    "    width = len(grid[0])\n",
    "    if x < 0 or y < 0 or x >= width or y >= height:\n",
    "        return\n",
    "    cur_position = grid[y][x]\n",
    "    #if current position is land mark this postion as *\n",
    "    if grid[y][x] == \"0\":\n",
    "        return\n",
    "    elif cur_position == \"1\":\n",
    "        grid[y][x] = \"*\"\n",
    "        #Found neighbor postion through left direction, (x+1,y)\n",
    "        DFS_Helper(grid,x+1,y)\n",
    "        #Found neighbor postion through down direction, (x,y+1)\n",
    "        DFS_Helper(grid,x,y+1)\n",
    "        #Found neighbor postion through right direction, (x-1,y)\n",
    "        DFS_Helper(grid,x-1,y)\n",
    "        #Found neighbor postion through up direction,    (x,y-1)\n",
    "        DFS_Helper(grid,x,y-1)\n",
    "\n",
    "\n",
    "def Islands_DFS(grid):\n",
    "    island_count = 0\n",
    "    if not grid:\n",
    "        return 0\n",
    "    #Traverse the matrix\n",
    "    height = len(grid)\n",
    "    width = len(grid[0])\n",
    "    for x in range(width):\n",
    "        for y in range(height):\n",
    "            current = grid[y][x]\n",
    "            #if current position is a land\n",
    "            if current == \"1\":\n",
    "                #Island count add 1\n",
    "                island_count += 1\n",
    "                #Invoke Helper function DFS search all lands neighbor it and mark them as *, means they belong to 1 Island\n",
    "                DFS_Helper(grid,x,y)\n",
    "    print(grid)\n",
    "    return island_count"
   ]
  },
  {
   "cell_type": "code",
   "execution_count": 54,
   "metadata": {
    "tags": []
   },
   "outputs": [
    {
     "output_type": "stream",
     "name": "stdout",
     "text": [
      "[['*', '*', '*', '*', '0'], ['*', '*', '0', '*', '0'], ['*', '*', '0', '0', '0'], ['0', '0', '0', '0', '0']]\n1\n"
     ]
    }
   ],
   "source": [
    "# grid = [\n",
    "#   [\"1\",\"1\",\"0\",\"0\",\"0\"],\n",
    "#   [\"1\",\"1\",\"0\",\"0\",\"0\"],\n",
    "#   [\"0\",\"0\",\"1\",\"0\",\"0\"],\n",
    "#   [\"0\",\"0\",\"0\",\"1\",\"1\"]\n",
    "# ]\n",
    "\n",
    "grid = [\n",
    "  [\"1\",\"1\",\"1\",\"1\",\"0\"],\n",
    "  [\"1\",\"1\",\"0\",\"1\",\"0\"],\n",
    "  [\"1\",\"1\",\"0\",\"0\",\"0\"],\n",
    "  [\"0\",\"0\",\"0\",\"0\",\"0\"]\n",
    "]\n",
    "\n",
    "count = Islands_DFS(grid)\n",
    "print(count)"
   ]
  },
  {
   "cell_type": "code",
   "execution_count": 1,
   "metadata": {},
   "outputs": [],
   "source": [
    "# 平衡二叉树"
   ]
  },
  {
   "cell_type": "code",
   "execution_count": null,
   "metadata": {},
   "outputs": [],
   "source": [
    "class BalanceTreeNode:\n",
    "    def __init__(self,value,balance_factor,left=None,right=None):\n",
    "        self.value = value\n",
    "        self.balance_factor = balance_factor\n",
    "        self.left = left\n",
    "        self.right = right\n",
    "\n",
    "class BalanceTreeSolution:\n",
    "    def __init__(self,nums):\n",
    "        return None\n",
    "\n",
    "    def build_tree(self,nums,parent):\n",
    "        #if current node is None\n",
    "        #create a Balance Tree Node with a value\n",
    "        #according parent's bf get current node's bf\n",
    "        return None\n",
    "\n",
    "    def insert_node(self,node,value):\n",
    "        growed = False\n",
    "        return growed\n",
    "\n",
    "    def left_balance(self,nums):\n",
    "        return None\n",
    "    \n",
    "    def right_balance(self,nums):\n",
    "        return None\n",
    "\n",
    "    def left_rorate(self,nums):\n",
    "        return None\n",
    "\n",
    "    def right_rorate(self,nums):\n",
    "        return None"
   ]
  }
 ]
}