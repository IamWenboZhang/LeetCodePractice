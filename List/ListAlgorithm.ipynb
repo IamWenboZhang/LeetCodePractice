{
 "metadata": {
  "language_info": {
   "codemirror_mode": {
    "name": "ipython",
    "version": 3
   },
   "file_extension": ".py",
   "mimetype": "text/x-python",
   "name": "python",
   "nbconvert_exporter": "python",
   "pygments_lexer": "ipython3",
   "version": "3.7.8-final"
  },
  "orig_nbformat": 2,
  "kernelspec": {
   "name": "python3",
   "display_name": "Python 3.7.8 64-bit",
   "metadata": {
    "interpreter": {
     "hash": "57baa5815c940fdaff4d14510622de9616cae602444507ba5d0b6727c008cbd6"
    }
   }
  }
 },
 "nbformat": 4,
 "nbformat_minor": 2,
 "cells": [
  {
   "source": [
    "# 输入一个正数 n，输出所有和为 n 的连续正数序列\n",
    "问题：\n",
    "\n",
    "输入一个正数n，输出所有和为 n 的连续正数序列。例如：输入15，由于1+2+3+4+5 = 4+5+6 = 7+8=15，所以输出3个连续序列1-5、4-6和7-8。"
   ],
   "cell_type": "markdown",
   "metadata": {}
  },
  {
   "cell_type": "code",
   "execution_count": 26,
   "metadata": {},
   "outputs": [],
   "source": [
    "\n",
    "    def get_sequence(n):\n",
    "        half = int(n/2)\n",
    "        for i in range(1,n+1):\n",
    "            count = i\n",
    "            for j in range(i+1,n+1):\n",
    "                count += j\n",
    "                if count == n:\n",
    "                    out(i,j)\n",
    "                    break\n",
    "                elif count > n:\n",
    "                    break \n",
    "    def out(i,j):\n",
    "        for num in range(i,j+1):\n",
    "            print(num)"
   ]
  },
  {
   "cell_type": "code",
   "execution_count": 27,
   "metadata": {},
   "outputs": [
    {
     "output_type": "stream",
     "name": "stdout",
     "text": [
      "1\n2\n3\n4\n5\n4\n5\n6\n7\n8\n"
     ]
    }
   ],
   "source": [
    "get_sequence(15)"
   ]
  },
  {
   "cell_type": "code",
   "execution_count": null,
   "metadata": {},
   "outputs": [],
   "source": []
  }
 ]
}