{
 "metadata": {
  "language_info": {
   "codemirror_mode": {
    "name": "ipython",
    "version": 3
   },
   "file_extension": ".py",
   "mimetype": "text/x-python",
   "name": "python",
   "nbconvert_exporter": "python",
   "pygments_lexer": "ipython3",
   "version": "3.7.8-final"
  },
  "orig_nbformat": 2,
  "kernelspec": {
   "name": "python3",
   "display_name": "Python 3.7.8 64-bit",
   "metadata": {
    "interpreter": {
     "hash": "57baa5815c940fdaff4d14510622de9616cae602444507ba5d0b6727c008cbd6"
    }
   }
  }
 },
 "nbformat": 4,
 "nbformat_minor": 2,
 "cells": [
  {
   "source": [
    "#给定一个数组A[]，数组中的任意项A[i]代表的是曲调，A[]则为一个乐谱，我们想要弹奏这个曲子，不过有一定要求：弹奏曲子可以用5个手指弹，有B[i]=1~5；如果A[i]>A[i+1]，B[i]>B[i+1]；如果A[i]<A[i-1]，B[i]<B[i-1]；如果A[i]=A[i+1]，B[i]!=B[i+1]。如果可以用5个手指弹奏这个曲子，则输出任意一个B[]，如果不能，输出N"
   ],
   "cell_type": "code",
   "metadata": {},
   "execution_count": 2,
   "outputs": []
  },
  {
   "cell_type": "code",
   "execution_count": 3,
   "metadata": {},
   "outputs": [],
   "source": [
    "def getB(A):\n",
    "    first = A[0]\n",
    "    minA = -1\n",
    "    B = []\n",
    "    for item in A:\n",
    "        b = item - first\n",
    "        if b < minA:\n",
    "            minA = b\n",
    "        if -2 <= b <= 2:\n",
    "            B.append(b)\n",
    "        else:\n",
    "            print(\"N\")\n",
    "            break\n",
    "    return B "
   ]
  },
  {
   "cell_type": "code",
   "execution_count": null,
   "metadata": {},
   "outputs": [],
   "source": [
    "A = [3,6,5,4,]\n",
    "b= getB()"
   ]
  }
 ]
}